{
 "metadata": {
  "language_info": {
   "codemirror_mode": {
    "name": "ipython",
    "version": 3
   },
   "file_extension": ".py",
   "mimetype": "text/x-python",
   "name": "python",
   "nbconvert_exporter": "python",
   "pygments_lexer": "ipython3",
   "version": "3.7.9-final"
  },
  "orig_nbformat": 2,
  "kernelspec": {
   "name": "python3",
   "display_name": "Python 3.7.9 64-bit ('pip-ML37': conda)",
   "metadata": {
    "interpreter": {
     "hash": "9139528303a272aecc9ca7491feb524752e5da2d1e9ad11ad8adbf2a123dd359"
    }
   }
  }
 },
 "nbformat": 4,
 "nbformat_minor": 2,
 "cells": [
  {
   "cell_type": "code",
   "execution_count": 1,
   "metadata": {},
   "outputs": [
    {
     "output_type": "display_data",
     "data": {
      "text/plain": "<IPython.core.display.HTML object>",
      "text/html": "<style type='text/css'>\n.datatable table.frame { margin-bottom: 0; }\n.datatable table.frame thead { border-bottom: none; }\n.datatable table.frame tr.coltypes td {  color: #FFFFFF;  line-height: 6px;  padding: 0 0.5em;}\n.datatable .bool    { background: #DDDD99; }\n.datatable .object  { background: #565656; }\n.datatable .int     { background: #5D9E5D; }\n.datatable .float   { background: #4040CC; }\n.datatable .str     { background: #CC4040; }\n.datatable .row_index {  background: var(--jp-border-color3);  border-right: 1px solid var(--jp-border-color0);  color: var(--jp-ui-font-color3);  font-size: 9px;}\n.datatable .frame tr.coltypes .row_index {  background: var(--jp-border-color0);}\n.datatable th:nth-child(2) { padding-left: 12px; }\n.datatable .hellipsis {  color: var(--jp-cell-editor-border-color);}\n.datatable .vellipsis {  background: var(--jp-layout-color0);  color: var(--jp-cell-editor-border-color);}\n.datatable .na {  color: var(--jp-cell-editor-border-color);  font-size: 80%;}\n.datatable .footer { font-size: 9px; }\n.datatable .frame_dimensions {  background: var(--jp-border-color3);  border-top: 1px solid var(--jp-border-color0);  color: var(--jp-ui-font-color3);  display: inline-block;  opacity: 0.6;  padding: 1px 10px 1px 5px;}\n</style>\n"
     },
     "metadata": {}
    }
   ],
   "source": [
    "### ライブラリのインポート\n",
    "import datatable\n",
    "import pandas as pd\n",
    "import numpy as np\n",
    "\n",
    "import datetime as dt\n",
    "import jpholiday\n",
    "\n",
    "pd.set_option('max_columns', 5000)\n",
    "pd.set_option('max_rows', 5000)\n",
    "\n",
    "import gc\n",
    "from IPython.display import display\n",
    "\n",
    "import warnings\n",
    "warnings.filterwarnings('ignore')"
   ]
  },
  {
   "cell_type": "code",
   "execution_count": 2,
   "metadata": {},
   "outputs": [
    {
     "output_type": "stream",
     "name": "stdout",
     "text": [
      "sales_train_evaluation\n"
     ]
    },
    {
     "output_type": "display_data",
     "data": {
      "text/plain": "                              id        item_id    dept_id   cat_id store_id  \\\n0  HOBBIES_1_001_CA_1_evaluation  HOBBIES_1_001  HOBBIES_1  HOBBIES     CA_1   \n\n  state_id  d_1  d_2  d_3  d_4  d_5  d_6  d_7  d_8  d_9  d_10  d_11  d_12  \\\n0       CA    0    0    0    0    0    0    0    0    0     0     0     0   \n\n   d_13  d_14  d_15  d_16  d_17  d_18  d_19  d_20  d_21  d_22  d_23  d_24  \\\n0     0     0     0     0     0     0     0     0     0     0     0     0   \n\n   d_25  d_26  d_27  d_28  d_29  \n0     0     0     0     0     0  ",
      "text/html": "<div>\n<style scoped>\n    .dataframe tbody tr th:only-of-type {\n        vertical-align: middle;\n    }\n\n    .dataframe tbody tr th {\n        vertical-align: top;\n    }\n\n    .dataframe thead th {\n        text-align: right;\n    }\n</style>\n<table border=\"1\" class=\"dataframe\">\n  <thead>\n    <tr style=\"text-align: right;\">\n      <th></th>\n      <th>id</th>\n      <th>item_id</th>\n      <th>dept_id</th>\n      <th>cat_id</th>\n      <th>store_id</th>\n      <th>state_id</th>\n      <th>d_1</th>\n      <th>d_2</th>\n      <th>d_3</th>\n      <th>d_4</th>\n      <th>d_5</th>\n      <th>d_6</th>\n      <th>d_7</th>\n      <th>d_8</th>\n      <th>d_9</th>\n      <th>d_10</th>\n      <th>d_11</th>\n      <th>d_12</th>\n      <th>d_13</th>\n      <th>d_14</th>\n      <th>d_15</th>\n      <th>d_16</th>\n      <th>d_17</th>\n      <th>d_18</th>\n      <th>d_19</th>\n      <th>d_20</th>\n      <th>d_21</th>\n      <th>d_22</th>\n      <th>d_23</th>\n      <th>d_24</th>\n      <th>d_25</th>\n      <th>d_26</th>\n      <th>d_27</th>\n      <th>d_28</th>\n      <th>d_29</th>\n    </tr>\n  </thead>\n  <tbody>\n    <tr>\n      <th>0</th>\n      <td>HOBBIES_1_001_CA_1_evaluation</td>\n      <td>HOBBIES_1_001</td>\n      <td>HOBBIES_1</td>\n      <td>HOBBIES</td>\n      <td>CA_1</td>\n      <td>CA</td>\n      <td>0</td>\n      <td>0</td>\n      <td>0</td>\n      <td>0</td>\n      <td>0</td>\n      <td>0</td>\n      <td>0</td>\n      <td>0</td>\n      <td>0</td>\n      <td>0</td>\n      <td>0</td>\n      <td>0</td>\n      <td>0</td>\n      <td>0</td>\n      <td>0</td>\n      <td>0</td>\n      <td>0</td>\n      <td>0</td>\n      <td>0</td>\n      <td>0</td>\n      <td>0</td>\n      <td>0</td>\n      <td>0</td>\n      <td>0</td>\n      <td>0</td>\n      <td>0</td>\n      <td>0</td>\n      <td>0</td>\n      <td>0</td>\n    </tr>\n  </tbody>\n</table>\n</div>"
     },
     "metadata": {}
    },
    {
     "output_type": "stream",
     "name": "stdout",
     "text": [
      "calendar\n"
     ]
    },
    {
     "output_type": "display_data",
     "data": {
      "text/plain": "     d        date    weekday\n0  d_1  2011-01-29   Saturday\n1  d_2  2011-01-30     Sunday\n2  d_3  2011-01-31     Monday\n3  d_4  2011-02-01    Tuesday\n4  d_5  2011-02-02  Wednesday",
      "text/html": "<div>\n<style scoped>\n    .dataframe tbody tr th:only-of-type {\n        vertical-align: middle;\n    }\n\n    .dataframe tbody tr th {\n        vertical-align: top;\n    }\n\n    .dataframe thead th {\n        text-align: right;\n    }\n</style>\n<table border=\"1\" class=\"dataframe\">\n  <thead>\n    <tr style=\"text-align: right;\">\n      <th></th>\n      <th>d</th>\n      <th>date</th>\n      <th>weekday</th>\n    </tr>\n  </thead>\n  <tbody>\n    <tr>\n      <th>0</th>\n      <td>d_1</td>\n      <td>2011-01-29</td>\n      <td>Saturday</td>\n    </tr>\n    <tr>\n      <th>1</th>\n      <td>d_2</td>\n      <td>2011-01-30</td>\n      <td>Sunday</td>\n    </tr>\n    <tr>\n      <th>2</th>\n      <td>d_3</td>\n      <td>2011-01-31</td>\n      <td>Monday</td>\n    </tr>\n    <tr>\n      <th>3</th>\n      <td>d_4</td>\n      <td>2011-02-01</td>\n      <td>Tuesday</td>\n    </tr>\n    <tr>\n      <th>4</th>\n      <td>d_5</td>\n      <td>2011-02-02</td>\n      <td>Wednesday</td>\n    </tr>\n  </tbody>\n</table>\n</div>"
     },
     "metadata": {}
    }
   ],
   "source": [
    "### データの読込\n",
    "train = datatable.fread(\"data/sales_train_evaluation.csv\")\n",
    "train = train.to_pandas()\n",
    "train = train.iloc[:, :35]\n",
    "print(\"sales_train_evaluation\")\n",
    "display(train.head(1))\n",
    "\n",
    "cal = pd.read_csv(\"data/calendar.csv\")\n",
    "cal = cal[[\"d\", \"date\", \"weekday\"]]\n",
    "print(\"calendar\")\n",
    "display(cal.head(5))"
   ]
  },
  {
   "cell_type": "code",
   "execution_count": 3,
   "metadata": {},
   "outputs": [],
   "source": [
    "# 各列ごとの日付データを1列に取り込む\n",
    "# ラグ作成のためには1日1個しかない カラム が必要\n",
    "# なければ作成する たとえば アイテムコード + 店舗コード で作成可能\n",
    "dtable = pd.melt(train, id_vars=train.columns.values[:6],\n",
    "    var_name=\"d\", value_name=\"sales_quantity\")\n",
    "\n",
    "dtable = dtable[[\"id\", \"cat_id\", \"item_id\", \"store_id\", \"d\", \"sales_quantity\"]]"
   ]
  },
  {
   "cell_type": "code",
   "execution_count": 4,
   "metadata": {},
   "outputs": [
    {
     "output_type": "execute_result",
     "data": {
      "text/plain": [
       "40"
      ]
     },
     "metadata": {},
     "execution_count": 4
    }
   ],
   "source": [
    "# メモリ開放\n",
    "del train\n",
    "gc.collect()"
   ]
  },
  {
   "cell_type": "code",
   "execution_count": 5,
   "metadata": {},
   "outputs": [
    {
     "output_type": "execute_result",
     "data": {
      "text/plain": [
       "         date   weekday                             id   cat_id  \\\n",
       "0  2011-01-29  Saturday  HOBBIES_1_001_CA_1_evaluation  HOBBIES   \n",
       "\n",
       "         item_id store_id  sales_quantity  \n",
       "0  HOBBIES_1_001     CA_1               0  "
      ],
      "text/html": "<div>\n<style scoped>\n    .dataframe tbody tr th:only-of-type {\n        vertical-align: middle;\n    }\n\n    .dataframe tbody tr th {\n        vertical-align: top;\n    }\n\n    .dataframe thead th {\n        text-align: right;\n    }\n</style>\n<table border=\"1\" class=\"dataframe\">\n  <thead>\n    <tr style=\"text-align: right;\">\n      <th></th>\n      <th>date</th>\n      <th>weekday</th>\n      <th>id</th>\n      <th>cat_id</th>\n      <th>item_id</th>\n      <th>store_id</th>\n      <th>sales_quantity</th>\n    </tr>\n  </thead>\n  <tbody>\n    <tr>\n      <th>0</th>\n      <td>2011-01-29</td>\n      <td>Saturday</td>\n      <td>HOBBIES_1_001_CA_1_evaluation</td>\n      <td>HOBBIES</td>\n      <td>HOBBIES_1_001</td>\n      <td>CA_1</td>\n      <td>0</td>\n    </tr>\n  </tbody>\n</table>\n</div>"
     },
     "metadata": {},
     "execution_count": 5
    }
   ],
   "source": [
    "# データのマージ\n",
    "dtable = pd.merge(cal, dtable, on=\"d\")\n",
    "\n",
    "dtable = dtable.iloc[:, 1:]\n",
    "\n",
    "dtable.head(1)"
   ]
  },
  {
   "cell_type": "code",
   "execution_count": 6,
   "metadata": {},
   "outputs": [
    {
     "output_type": "execute_result",
     "data": {
      "text/plain": [
       "40"
      ]
     },
     "metadata": {},
     "execution_count": 6
    }
   ],
   "source": [
    "# メモリ開放\n",
    "del cal\n",
    "gc.collect()"
   ]
  },
  {
   "cell_type": "code",
   "execution_count": 7,
   "metadata": {},
   "outputs": [],
   "source": [
    "# date 列を日付データに変換\n",
    "dtable[\"date\"] = pd.to_datetime(dtable[\"date\"])\n",
    "\n",
    "# 仮に予測データを5で仮置きする\n",
    "dtable[\"pred\"] = 5"
   ]
  },
  {
   "cell_type": "code",
   "execution_count": 8,
   "metadata": {},
   "outputs": [],
   "source": [
    "# 年\n",
    "dtable[\"year\"] = dtable[\"date\"].dt.year\n",
    "\n",
    "# 月\n",
    "dtable[\"month\"] = dtable[\"date\"].dt.month\n",
    "\n",
    "# 週番号\n",
    "dtable[\"numofweek\"] = dtable[\"date\"].dt.strftime(\"%V\")\n",
    "\n",
    "# 日\n",
    "dtable[\"day\"] = dtable[\"date\"].dt.day\n",
    "\n",
    "# 曜日 月曜が0, 日曜が6\n",
    "dtable[\"dayofweek\"] = dtable[\"date\"].dt.dayofweek"
   ]
  },
  {
   "cell_type": "code",
   "execution_count": 91,
   "metadata": {},
   "outputs": [],
   "source": [
    "# 祝日の判定 重い\n",
    "dtable[\"p_holiday\"] = dtable[\"date\"].map(jpholiday.is_holiday).astype(int)"
   ]
  },
  {
   "cell_type": "code",
   "execution_count": 92,
   "metadata": {},
   "outputs": [],
   "source": [
    "# 土日、祝日を1、それ以外を0とする\n",
    "dtable[\"holiday\"]=0\n",
    "dtable.loc[(dtable[\"dayofweek\"]==5)|(dtable[\"dayofweek\"]==6)|(dtable[\"p_holiday\"]==1), 'holiday'] = 1"
   ]
  },
  {
   "cell_type": "code",
   "execution_count": 147,
   "metadata": {},
   "outputs": [
    {
     "output_type": "execute_result",
     "data": {
      "text/plain": [
       "        date   weekday                             id   cat_id        item_id  \\\n",
       "0 2011-01-29  Saturday  HOBBIES_1_001_CA_1_evaluation  HOBBIES  HOBBIES_1_001   \n",
       "1 2011-01-29  Saturday  HOBBIES_1_002_CA_1_evaluation  HOBBIES  HOBBIES_1_002   \n",
       "2 2011-01-29  Saturday  HOBBIES_1_003_CA_1_evaluation  HOBBIES  HOBBIES_1_003   \n",
       "3 2011-01-29  Saturday  HOBBIES_1_004_CA_1_evaluation  HOBBIES  HOBBIES_1_004   \n",
       "4 2011-01-29  Saturday  HOBBIES_1_005_CA_1_evaluation  HOBBIES  HOBBIES_1_005   \n",
       "\n",
       "  store_id  sales_quantity  pred  year  month  day  dayofweek  p_holiday  \\\n",
       "0     CA_1               0     5  2011      1   29          5          0   \n",
       "1     CA_1               0     5  2011      1   29          5          0   \n",
       "2     CA_1               0     5  2011      1   29          5          0   \n",
       "3     CA_1               0     5  2011      1   29          5          0   \n",
       "4     CA_1               0     5  2011      1   29          5          0   \n",
       "\n",
       "   holiday  lag_1  lag_7  lag_1_diff  lag_7_diff  rmean_1_1  rmean_7_1  \\\n",
       "0        1    NaN    NaN         NaN         NaN        NaN        NaN   \n",
       "1        1    NaN    NaN         NaN         NaN        NaN        NaN   \n",
       "2        1    NaN    NaN         NaN         NaN        NaN        NaN   \n",
       "3        1    NaN    NaN         NaN         NaN        NaN        NaN   \n",
       "4        1    NaN    NaN         NaN         NaN        NaN        NaN   \n",
       "\n",
       "   rmean_1_7  rmean_7_7       store_item_id numofweek  \n",
       "0        NaN        NaN  CA_1-HOBBIES_1_001        04  \n",
       "1        NaN        NaN  CA_1-HOBBIES_1_002        04  \n",
       "2        NaN        NaN  CA_1-HOBBIES_1_003        04  \n",
       "3        NaN        NaN  CA_1-HOBBIES_1_004        04  \n",
       "4        NaN        NaN  CA_1-HOBBIES_1_005        04  "
      ],
      "text/html": "<div>\n<style scoped>\n    .dataframe tbody tr th:only-of-type {\n        vertical-align: middle;\n    }\n\n    .dataframe tbody tr th {\n        vertical-align: top;\n    }\n\n    .dataframe thead th {\n        text-align: right;\n    }\n</style>\n<table border=\"1\" class=\"dataframe\">\n  <thead>\n    <tr style=\"text-align: right;\">\n      <th></th>\n      <th>date</th>\n      <th>weekday</th>\n      <th>id</th>\n      <th>cat_id</th>\n      <th>item_id</th>\n      <th>store_id</th>\n      <th>sales_quantity</th>\n      <th>pred</th>\n      <th>year</th>\n      <th>month</th>\n      <th>day</th>\n      <th>dayofweek</th>\n      <th>p_holiday</th>\n      <th>holiday</th>\n      <th>lag_1</th>\n      <th>lag_7</th>\n      <th>lag_1_diff</th>\n      <th>lag_7_diff</th>\n      <th>rmean_1_1</th>\n      <th>rmean_7_1</th>\n      <th>rmean_1_7</th>\n      <th>rmean_7_7</th>\n      <th>store_item_id</th>\n      <th>numofweek</th>\n    </tr>\n  </thead>\n  <tbody>\n    <tr>\n      <th>0</th>\n      <td>2011-01-29</td>\n      <td>Saturday</td>\n      <td>HOBBIES_1_001_CA_1_evaluation</td>\n      <td>HOBBIES</td>\n      <td>HOBBIES_1_001</td>\n      <td>CA_1</td>\n      <td>0</td>\n      <td>5</td>\n      <td>2011</td>\n      <td>1</td>\n      <td>29</td>\n      <td>5</td>\n      <td>0</td>\n      <td>1</td>\n      <td>NaN</td>\n      <td>NaN</td>\n      <td>NaN</td>\n      <td>NaN</td>\n      <td>NaN</td>\n      <td>NaN</td>\n      <td>NaN</td>\n      <td>NaN</td>\n      <td>CA_1-HOBBIES_1_001</td>\n      <td>04</td>\n    </tr>\n    <tr>\n      <th>1</th>\n      <td>2011-01-29</td>\n      <td>Saturday</td>\n      <td>HOBBIES_1_002_CA_1_evaluation</td>\n      <td>HOBBIES</td>\n      <td>HOBBIES_1_002</td>\n      <td>CA_1</td>\n      <td>0</td>\n      <td>5</td>\n      <td>2011</td>\n      <td>1</td>\n      <td>29</td>\n      <td>5</td>\n      <td>0</td>\n      <td>1</td>\n      <td>NaN</td>\n      <td>NaN</td>\n      <td>NaN</td>\n      <td>NaN</td>\n      <td>NaN</td>\n      <td>NaN</td>\n      <td>NaN</td>\n      <td>NaN</td>\n      <td>CA_1-HOBBIES_1_002</td>\n      <td>04</td>\n    </tr>\n    <tr>\n      <th>2</th>\n      <td>2011-01-29</td>\n      <td>Saturday</td>\n      <td>HOBBIES_1_003_CA_1_evaluation</td>\n      <td>HOBBIES</td>\n      <td>HOBBIES_1_003</td>\n      <td>CA_1</td>\n      <td>0</td>\n      <td>5</td>\n      <td>2011</td>\n      <td>1</td>\n      <td>29</td>\n      <td>5</td>\n      <td>0</td>\n      <td>1</td>\n      <td>NaN</td>\n      <td>NaN</td>\n      <td>NaN</td>\n      <td>NaN</td>\n      <td>NaN</td>\n      <td>NaN</td>\n      <td>NaN</td>\n      <td>NaN</td>\n      <td>CA_1-HOBBIES_1_003</td>\n      <td>04</td>\n    </tr>\n    <tr>\n      <th>3</th>\n      <td>2011-01-29</td>\n      <td>Saturday</td>\n      <td>HOBBIES_1_004_CA_1_evaluation</td>\n      <td>HOBBIES</td>\n      <td>HOBBIES_1_004</td>\n      <td>CA_1</td>\n      <td>0</td>\n      <td>5</td>\n      <td>2011</td>\n      <td>1</td>\n      <td>29</td>\n      <td>5</td>\n      <td>0</td>\n      <td>1</td>\n      <td>NaN</td>\n      <td>NaN</td>\n      <td>NaN</td>\n      <td>NaN</td>\n      <td>NaN</td>\n      <td>NaN</td>\n      <td>NaN</td>\n      <td>NaN</td>\n      <td>CA_1-HOBBIES_1_004</td>\n      <td>04</td>\n    </tr>\n    <tr>\n      <th>4</th>\n      <td>2011-01-29</td>\n      <td>Saturday</td>\n      <td>HOBBIES_1_005_CA_1_evaluation</td>\n      <td>HOBBIES</td>\n      <td>HOBBIES_1_005</td>\n      <td>CA_1</td>\n      <td>0</td>\n      <td>5</td>\n      <td>2011</td>\n      <td>1</td>\n      <td>29</td>\n      <td>5</td>\n      <td>0</td>\n      <td>1</td>\n      <td>NaN</td>\n      <td>NaN</td>\n      <td>NaN</td>\n      <td>NaN</td>\n      <td>NaN</td>\n      <td>NaN</td>\n      <td>NaN</td>\n      <td>NaN</td>\n      <td>CA_1-HOBBIES_1_005</td>\n      <td>04</td>\n    </tr>\n  </tbody>\n</table>\n</div>"
     },
     "metadata": {},
     "execution_count": 147
    }
   ],
   "source": [
    "dtable.head()"
   ]
  },
  {
   "source": [
    "### 週単位に集約する"
   ],
   "cell_type": "markdown",
   "metadata": {}
  },
  {
   "cell_type": "code",
   "execution_count": null,
   "metadata": {},
   "outputs": [],
   "source": [
    "week_pivot = pd.pivot_table(dtable, values=\"sales_quantity\", \n",
    "    index=[\"numofweek\", \"weekday\", \"id\", \"cat_id\", \"item_id\", \"store_id\", \"year\", \"month\", \"store_item_id\" ], aggfunc='sum')\n",
    "\n",
    "week_pivot.head()"
   ]
  },
  {
   "cell_type": "code",
   "execution_count": null,
   "metadata": {},
   "outputs": [],
   "source": [
    "# マルチインデックスになっているので、解除する\n",
    "week_pivot = week_pivot.reset_index()\n",
    "\n",
    "week_pivot.head()"
   ]
  },
  {
   "source": [
    "### 時系列解析用のラグデータを作成"
   ],
   "cell_type": "markdown",
   "metadata": {}
  },
  {
   "cell_type": "code",
   "execution_count": 95,
   "metadata": {},
   "outputs": [],
   "source": [
    "# 1日1個しかない id ごとに ラグデータを作成する\n",
    "# id 以外は1日複数個あるのでNG\n",
    "# item_id は店舗の数だけあるのでNG\n",
    "dayLags = [1, 7]\n",
    "lagSalesCols = [f\"lag_{dayLag}\" for dayLag in dayLags]\n",
    "\n",
    "for dayLag, lagSalesCol in zip(dayLags, lagSalesCols):\n",
    "    dtable[lagSalesCol] = dtable[[\"id\",\"sales_quantity\"]].groupby(\"id\")[\"sales_quantity\"].shift(dayLag)"
   ]
  },
  {
   "cell_type": "code",
   "execution_count": 96,
   "metadata": {},
   "outputs": [],
   "source": [
    "# ラグの差分を作る\n",
    "for dayLag, lagSalesCol in zip(dayLags, lagSalesCols):\n",
    "    dtable[f\"{lagSalesCol}_diff\"] = dtable[[\"id\",f\"lag_{dayLag}\"]].groupby(\"id\")[f\"lag_{dayLag}\"].diff(dayLag)"
   ]
  },
  {
   "cell_type": "code",
   "execution_count": 97,
   "metadata": {},
   "outputs": [],
   "source": [
    "# 平均値も作る\n",
    "windows = [1, 7]\n",
    "for window in windows:\n",
    "    for dayLag, lagSalesCol in zip(dayLags, lagSalesCols):\n",
    "        dtable[f\"rmean_{dayLag}_{window}\"] = dtable[[\"id\", lagSalesCol]].groupby(\"id\")[lagSalesCol].transform(lambda x: x.rolling(window).mean())"
   ]
  },
  {
   "cell_type": "code",
   "execution_count": 99,
   "metadata": {},
   "outputs": [
    {
     "output_type": "execute_result",
     "data": {
      "text/plain": [
       "          sales_quantity    pred       year   month      day  dayofweek  \\\n",
       "store_id                                                                  \n",
       "CA_1               94948  442105  177814631  167695  1344609     271361   \n",
       "CA_2               71761  442105  177814631  167695  1344609     271361   \n",
       "CA_3              124999  442105  177814631  167695  1344609     271361   \n",
       "CA_4               42814  442105  177814631  167695  1344609     271361   \n",
       "TX_1               64926  442105  177814631  167695  1344609     271361   \n",
       "TX_2               89212  442105  177814631  167695  1344609     271361   \n",
       "TX_3               68082  442105  177814631  167695  1344609     271361   \n",
       "WI_1               49941  442105  177814631  167695  1344609     271361   \n",
       "WI_2               54724  442105  177814631  167695  1344609     271361   \n",
       "WI_3              103184  442105  177814631  167695  1344609     271361   \n",
       "\n",
       "          p_holiday  holiday     lag_1    lag_7  lag_1_diff  lag_7_diff  \\\n",
       "store_id                                                                  \n",
       "CA_1           3049    30490   91229.0  74066.0     -1636.0     -2325.0   \n",
       "CA_2           3049    30490   68245.0  55057.0     -1307.0     -2034.0   \n",
       "CA_3           3049    30490  120225.0  96980.0     -1164.0     -2877.0   \n",
       "CA_4           3049    30490   41171.0  32873.0      -241.0      -673.0   \n",
       "TX_1           3049    30490   62297.0  50049.0      -670.0       433.0   \n",
       "TX_2           3049    30490   85647.0  68809.0     -1346.0      -233.0   \n",
       "TX_3           3049    30490   65690.0  52787.0     -1136.0       212.0   \n",
       "WI_1           3049    30490   47787.0  39652.0      -874.0      -453.0   \n",
       "WI_2           3049    30490   52763.0  43663.0      -724.0     -1308.0   \n",
       "WI_3           3049    30490   99629.0  83434.0     -1004.0     -1259.0   \n",
       "\n",
       "          rmean_1_1  rmean_7_1     rmean_1_7     rmean_7_7  \n",
       "store_id                                                    \n",
       "CA_1        91229.0    74066.0  72464.571429  53978.571429  \n",
       "CA_2        68245.0    55057.0  53912.571429  40136.142857  \n",
       "CA_3       120225.0    96980.0  96137.714286  72507.142857  \n",
       "CA_4        41171.0    32873.0  32468.714286  24040.857143  \n",
       "TX_1        62297.0    50049.0  49577.142857  36668.857143  \n",
       "TX_2        85647.0    68809.0  67706.142857  49886.428571  \n",
       "TX_3        65690.0    52787.0  51925.428571  37886.428571  \n",
       "WI_1        47787.0    39652.0  37832.000000  28485.142857  \n",
       "WI_2        52763.0    43663.0  41963.714286  31992.285714  \n",
       "WI_3        99629.0    83434.0  80451.142857  62118.714286  "
      ],
      "text/html": "<div>\n<style scoped>\n    .dataframe tbody tr th:only-of-type {\n        vertical-align: middle;\n    }\n\n    .dataframe tbody tr th {\n        vertical-align: top;\n    }\n\n    .dataframe thead th {\n        text-align: right;\n    }\n</style>\n<table border=\"1\" class=\"dataframe\">\n  <thead>\n    <tr style=\"text-align: right;\">\n      <th></th>\n      <th>sales_quantity</th>\n      <th>pred</th>\n      <th>year</th>\n      <th>month</th>\n      <th>day</th>\n      <th>dayofweek</th>\n      <th>p_holiday</th>\n      <th>holiday</th>\n      <th>lag_1</th>\n      <th>lag_7</th>\n      <th>lag_1_diff</th>\n      <th>lag_7_diff</th>\n      <th>rmean_1_1</th>\n      <th>rmean_7_1</th>\n      <th>rmean_1_7</th>\n      <th>rmean_7_7</th>\n    </tr>\n    <tr>\n      <th>store_id</th>\n      <th></th>\n      <th></th>\n      <th></th>\n      <th></th>\n      <th></th>\n      <th></th>\n      <th></th>\n      <th></th>\n      <th></th>\n      <th></th>\n      <th></th>\n      <th></th>\n      <th></th>\n      <th></th>\n      <th></th>\n      <th></th>\n    </tr>\n  </thead>\n  <tbody>\n    <tr>\n      <th>CA_1</th>\n      <td>94948</td>\n      <td>442105</td>\n      <td>177814631</td>\n      <td>167695</td>\n      <td>1344609</td>\n      <td>271361</td>\n      <td>3049</td>\n      <td>30490</td>\n      <td>91229.0</td>\n      <td>74066.0</td>\n      <td>-1636.0</td>\n      <td>-2325.0</td>\n      <td>91229.0</td>\n      <td>74066.0</td>\n      <td>72464.571429</td>\n      <td>53978.571429</td>\n    </tr>\n    <tr>\n      <th>CA_2</th>\n      <td>71761</td>\n      <td>442105</td>\n      <td>177814631</td>\n      <td>167695</td>\n      <td>1344609</td>\n      <td>271361</td>\n      <td>3049</td>\n      <td>30490</td>\n      <td>68245.0</td>\n      <td>55057.0</td>\n      <td>-1307.0</td>\n      <td>-2034.0</td>\n      <td>68245.0</td>\n      <td>55057.0</td>\n      <td>53912.571429</td>\n      <td>40136.142857</td>\n    </tr>\n    <tr>\n      <th>CA_3</th>\n      <td>124999</td>\n      <td>442105</td>\n      <td>177814631</td>\n      <td>167695</td>\n      <td>1344609</td>\n      <td>271361</td>\n      <td>3049</td>\n      <td>30490</td>\n      <td>120225.0</td>\n      <td>96980.0</td>\n      <td>-1164.0</td>\n      <td>-2877.0</td>\n      <td>120225.0</td>\n      <td>96980.0</td>\n      <td>96137.714286</td>\n      <td>72507.142857</td>\n    </tr>\n    <tr>\n      <th>CA_4</th>\n      <td>42814</td>\n      <td>442105</td>\n      <td>177814631</td>\n      <td>167695</td>\n      <td>1344609</td>\n      <td>271361</td>\n      <td>3049</td>\n      <td>30490</td>\n      <td>41171.0</td>\n      <td>32873.0</td>\n      <td>-241.0</td>\n      <td>-673.0</td>\n      <td>41171.0</td>\n      <td>32873.0</td>\n      <td>32468.714286</td>\n      <td>24040.857143</td>\n    </tr>\n    <tr>\n      <th>TX_1</th>\n      <td>64926</td>\n      <td>442105</td>\n      <td>177814631</td>\n      <td>167695</td>\n      <td>1344609</td>\n      <td>271361</td>\n      <td>3049</td>\n      <td>30490</td>\n      <td>62297.0</td>\n      <td>50049.0</td>\n      <td>-670.0</td>\n      <td>433.0</td>\n      <td>62297.0</td>\n      <td>50049.0</td>\n      <td>49577.142857</td>\n      <td>36668.857143</td>\n    </tr>\n    <tr>\n      <th>TX_2</th>\n      <td>89212</td>\n      <td>442105</td>\n      <td>177814631</td>\n      <td>167695</td>\n      <td>1344609</td>\n      <td>271361</td>\n      <td>3049</td>\n      <td>30490</td>\n      <td>85647.0</td>\n      <td>68809.0</td>\n      <td>-1346.0</td>\n      <td>-233.0</td>\n      <td>85647.0</td>\n      <td>68809.0</td>\n      <td>67706.142857</td>\n      <td>49886.428571</td>\n    </tr>\n    <tr>\n      <th>TX_3</th>\n      <td>68082</td>\n      <td>442105</td>\n      <td>177814631</td>\n      <td>167695</td>\n      <td>1344609</td>\n      <td>271361</td>\n      <td>3049</td>\n      <td>30490</td>\n      <td>65690.0</td>\n      <td>52787.0</td>\n      <td>-1136.0</td>\n      <td>212.0</td>\n      <td>65690.0</td>\n      <td>52787.0</td>\n      <td>51925.428571</td>\n      <td>37886.428571</td>\n    </tr>\n    <tr>\n      <th>WI_1</th>\n      <td>49941</td>\n      <td>442105</td>\n      <td>177814631</td>\n      <td>167695</td>\n      <td>1344609</td>\n      <td>271361</td>\n      <td>3049</td>\n      <td>30490</td>\n      <td>47787.0</td>\n      <td>39652.0</td>\n      <td>-874.0</td>\n      <td>-453.0</td>\n      <td>47787.0</td>\n      <td>39652.0</td>\n      <td>37832.000000</td>\n      <td>28485.142857</td>\n    </tr>\n    <tr>\n      <th>WI_2</th>\n      <td>54724</td>\n      <td>442105</td>\n      <td>177814631</td>\n      <td>167695</td>\n      <td>1344609</td>\n      <td>271361</td>\n      <td>3049</td>\n      <td>30490</td>\n      <td>52763.0</td>\n      <td>43663.0</td>\n      <td>-724.0</td>\n      <td>-1308.0</td>\n      <td>52763.0</td>\n      <td>43663.0</td>\n      <td>41963.714286</td>\n      <td>31992.285714</td>\n    </tr>\n    <tr>\n      <th>WI_3</th>\n      <td>103184</td>\n      <td>442105</td>\n      <td>177814631</td>\n      <td>167695</td>\n      <td>1344609</td>\n      <td>271361</td>\n      <td>3049</td>\n      <td>30490</td>\n      <td>99629.0</td>\n      <td>83434.0</td>\n      <td>-1004.0</td>\n      <td>-1259.0</td>\n      <td>99629.0</td>\n      <td>83434.0</td>\n      <td>80451.142857</td>\n      <td>62118.714286</td>\n    </tr>\n  </tbody>\n</table>\n</div>"
     },
     "metadata": {},
     "execution_count": 99
    }
   ],
   "source": [
    "# 店舗ごとの集計\n",
    "dtable.groupby(\"store_id\").sum()"
   ]
  },
  {
   "cell_type": "code",
   "execution_count": 123,
   "metadata": {},
   "outputs": [
    {
     "output_type": "execute_result",
     "data": {
      "text/plain": [
       "          date   weekday                               id     cat_id  \\\n",
       "0   2011-01-29  Saturday    HOBBIES_1_001_CA_1_evaluation    HOBBIES   \n",
       "1   2011-01-29  Saturday    HOBBIES_1_002_CA_1_evaluation    HOBBIES   \n",
       "2   2011-01-29  Saturday    HOBBIES_1_003_CA_1_evaluation    HOBBIES   \n",
       "4   2011-01-29  Saturday    HOBBIES_1_005_CA_1_evaluation    HOBBIES   \n",
       "902 2011-01-29  Saturday  HOUSEHOLD_1_344_CA_1_evaluation  HOUSEHOLD   \n",
       "\n",
       "             item_id store_id  sales_quantity  pred  year  month  day  \\\n",
       "0      HOBBIES_1_001     CA_1               0     5  2011      1   29   \n",
       "1      HOBBIES_1_002     CA_1               0     5  2011      1   29   \n",
       "2      HOBBIES_1_003     CA_1               0     5  2011      1   29   \n",
       "4      HOBBIES_1_005     CA_1               0     5  2011      1   29   \n",
       "902  HOUSEHOLD_1_344     CA_1               0     5  2011      1   29   \n",
       "\n",
       "     dayofweek  p_holiday  holiday  lag_1  lag_7  lag_1_diff  lag_7_diff  \\\n",
       "0            5          0        1    NaN    NaN         NaN         NaN   \n",
       "1            5          0        1    NaN    NaN         NaN         NaN   \n",
       "2            5          0        1    NaN    NaN         NaN         NaN   \n",
       "4            5          0        1    NaN    NaN         NaN         NaN   \n",
       "902          5          0        1    NaN    NaN         NaN         NaN   \n",
       "\n",
       "     rmean_1_1  rmean_7_1  rmean_1_7  rmean_7_7         store_item_id  \\\n",
       "0          NaN        NaN        NaN        NaN    CA_1-HOBBIES_1_001   \n",
       "1          NaN        NaN        NaN        NaN    CA_1-HOBBIES_1_002   \n",
       "2          NaN        NaN        NaN        NaN    CA_1-HOBBIES_1_003   \n",
       "4          NaN        NaN        NaN        NaN    CA_1-HOBBIES_1_005   \n",
       "902        NaN        NaN        NaN        NaN  CA_1-HOUSEHOLD_1_344   \n",
       "\n",
       "    numofweek  \n",
       "0          04  \n",
       "1          04  \n",
       "2          04  \n",
       "4          04  \n",
       "902        04  "
      ],
      "text/html": "<div>\n<style scoped>\n    .dataframe tbody tr th:only-of-type {\n        vertical-align: middle;\n    }\n\n    .dataframe tbody tr th {\n        vertical-align: top;\n    }\n\n    .dataframe thead th {\n        text-align: right;\n    }\n</style>\n<table border=\"1\" class=\"dataframe\">\n  <thead>\n    <tr style=\"text-align: right;\">\n      <th></th>\n      <th>date</th>\n      <th>weekday</th>\n      <th>id</th>\n      <th>cat_id</th>\n      <th>item_id</th>\n      <th>store_id</th>\n      <th>sales_quantity</th>\n      <th>pred</th>\n      <th>year</th>\n      <th>month</th>\n      <th>day</th>\n      <th>dayofweek</th>\n      <th>p_holiday</th>\n      <th>holiday</th>\n      <th>lag_1</th>\n      <th>lag_7</th>\n      <th>lag_1_diff</th>\n      <th>lag_7_diff</th>\n      <th>rmean_1_1</th>\n      <th>rmean_7_1</th>\n      <th>rmean_1_7</th>\n      <th>rmean_7_7</th>\n      <th>store_item_id</th>\n      <th>numofweek</th>\n    </tr>\n  </thead>\n  <tbody>\n    <tr>\n      <th>0</th>\n      <td>2011-01-29</td>\n      <td>Saturday</td>\n      <td>HOBBIES_1_001_CA_1_evaluation</td>\n      <td>HOBBIES</td>\n      <td>HOBBIES_1_001</td>\n      <td>CA_1</td>\n      <td>0</td>\n      <td>5</td>\n      <td>2011</td>\n      <td>1</td>\n      <td>29</td>\n      <td>5</td>\n      <td>0</td>\n      <td>1</td>\n      <td>NaN</td>\n      <td>NaN</td>\n      <td>NaN</td>\n      <td>NaN</td>\n      <td>NaN</td>\n      <td>NaN</td>\n      <td>NaN</td>\n      <td>NaN</td>\n      <td>CA_1-HOBBIES_1_001</td>\n      <td>04</td>\n    </tr>\n    <tr>\n      <th>1</th>\n      <td>2011-01-29</td>\n      <td>Saturday</td>\n      <td>HOBBIES_1_002_CA_1_evaluation</td>\n      <td>HOBBIES</td>\n      <td>HOBBIES_1_002</td>\n      <td>CA_1</td>\n      <td>0</td>\n      <td>5</td>\n      <td>2011</td>\n      <td>1</td>\n      <td>29</td>\n      <td>5</td>\n      <td>0</td>\n      <td>1</td>\n      <td>NaN</td>\n      <td>NaN</td>\n      <td>NaN</td>\n      <td>NaN</td>\n      <td>NaN</td>\n      <td>NaN</td>\n      <td>NaN</td>\n      <td>NaN</td>\n      <td>CA_1-HOBBIES_1_002</td>\n      <td>04</td>\n    </tr>\n    <tr>\n      <th>2</th>\n      <td>2011-01-29</td>\n      <td>Saturday</td>\n      <td>HOBBIES_1_003_CA_1_evaluation</td>\n      <td>HOBBIES</td>\n      <td>HOBBIES_1_003</td>\n      <td>CA_1</td>\n      <td>0</td>\n      <td>5</td>\n      <td>2011</td>\n      <td>1</td>\n      <td>29</td>\n      <td>5</td>\n      <td>0</td>\n      <td>1</td>\n      <td>NaN</td>\n      <td>NaN</td>\n      <td>NaN</td>\n      <td>NaN</td>\n      <td>NaN</td>\n      <td>NaN</td>\n      <td>NaN</td>\n      <td>NaN</td>\n      <td>CA_1-HOBBIES_1_003</td>\n      <td>04</td>\n    </tr>\n    <tr>\n      <th>4</th>\n      <td>2011-01-29</td>\n      <td>Saturday</td>\n      <td>HOBBIES_1_005_CA_1_evaluation</td>\n      <td>HOBBIES</td>\n      <td>HOBBIES_1_005</td>\n      <td>CA_1</td>\n      <td>0</td>\n      <td>5</td>\n      <td>2011</td>\n      <td>1</td>\n      <td>29</td>\n      <td>5</td>\n      <td>0</td>\n      <td>1</td>\n      <td>NaN</td>\n      <td>NaN</td>\n      <td>NaN</td>\n      <td>NaN</td>\n      <td>NaN</td>\n      <td>NaN</td>\n      <td>NaN</td>\n      <td>NaN</td>\n      <td>CA_1-HOBBIES_1_005</td>\n      <td>04</td>\n    </tr>\n    <tr>\n      <th>902</th>\n      <td>2011-01-29</td>\n      <td>Saturday</td>\n      <td>HOUSEHOLD_1_344_CA_1_evaluation</td>\n      <td>HOUSEHOLD</td>\n      <td>HOUSEHOLD_1_344</td>\n      <td>CA_1</td>\n      <td>0</td>\n      <td>5</td>\n      <td>2011</td>\n      <td>1</td>\n      <td>29</td>\n      <td>5</td>\n      <td>0</td>\n      <td>1</td>\n      <td>NaN</td>\n      <td>NaN</td>\n      <td>NaN</td>\n      <td>NaN</td>\n      <td>NaN</td>\n      <td>NaN</td>\n      <td>NaN</td>\n      <td>NaN</td>\n      <td>CA_1-HOUSEHOLD_1_344</td>\n      <td>04</td>\n    </tr>\n  </tbody>\n</table>\n</div>"
     },
     "metadata": {},
     "execution_count": 123
    }
   ],
   "source": [
    "# item_id の指定\n",
    "limited_item_id = ['HOBBIES_1_001', 'HOBBIES_1_002', 'HOBBIES_1_003',\n",
    "'HOBBIES_1_005',  'HOUSEHOLD_1_344',\n",
    " 'HOUSEHOLD_1_345', 'HOUSEHOLD_1_346',\n",
    " ]\n",
    "\n",
    "dtable[dtable[\"item_id\"].isin(limited_item_id)].head()"
   ]
  },
  {
   "source": [
    "### 期間で集計"
   ],
   "cell_type": "markdown",
   "metadata": {}
  },
  {
   "cell_type": "code",
   "execution_count": 124,
   "metadata": {},
   "outputs": [
    {
     "output_type": "display_data",
     "data": {
      "text/plain": "             date  weekday                             id   cat_id  \\\n518330 2011-02-15  Tuesday  HOBBIES_1_001_CA_1_evaluation  HOBBIES   \n518331 2011-02-15  Tuesday  HOBBIES_1_002_CA_1_evaluation  HOBBIES   \n\n              item_id store_id  sales_quantity  pred  year  month  day  \\\n518330  HOBBIES_1_001     CA_1               0     5  2011      2   15   \n518331  HOBBIES_1_002     CA_1               0     5  2011      2   15   \n\n        dayofweek  p_holiday  holiday  lag_1  lag_7  lag_1_diff  lag_7_diff  \\\n518330          1          0        0    0.0    0.0         0.0         0.0   \n518331          1          0        0    0.0    0.0         0.0         0.0   \n\n        rmean_1_1  rmean_7_1  rmean_1_7  rmean_7_7       store_item_id  \\\n518330        0.0        0.0        0.0        0.0  CA_1-HOBBIES_1_001   \n518331        0.0        0.0        0.0        0.0  CA_1-HOBBIES_1_002   \n\n       numofweek  \n518330        07  \n518331        07  ",
      "text/html": "<div>\n<style scoped>\n    .dataframe tbody tr th:only-of-type {\n        vertical-align: middle;\n    }\n\n    .dataframe tbody tr th {\n        vertical-align: top;\n    }\n\n    .dataframe thead th {\n        text-align: right;\n    }\n</style>\n<table border=\"1\" class=\"dataframe\">\n  <thead>\n    <tr style=\"text-align: right;\">\n      <th></th>\n      <th>date</th>\n      <th>weekday</th>\n      <th>id</th>\n      <th>cat_id</th>\n      <th>item_id</th>\n      <th>store_id</th>\n      <th>sales_quantity</th>\n      <th>pred</th>\n      <th>year</th>\n      <th>month</th>\n      <th>day</th>\n      <th>dayofweek</th>\n      <th>p_holiday</th>\n      <th>holiday</th>\n      <th>lag_1</th>\n      <th>lag_7</th>\n      <th>lag_1_diff</th>\n      <th>lag_7_diff</th>\n      <th>rmean_1_1</th>\n      <th>rmean_7_1</th>\n      <th>rmean_1_7</th>\n      <th>rmean_7_7</th>\n      <th>store_item_id</th>\n      <th>numofweek</th>\n    </tr>\n  </thead>\n  <tbody>\n    <tr>\n      <th>518330</th>\n      <td>2011-02-15</td>\n      <td>Tuesday</td>\n      <td>HOBBIES_1_001_CA_1_evaluation</td>\n      <td>HOBBIES</td>\n      <td>HOBBIES_1_001</td>\n      <td>CA_1</td>\n      <td>0</td>\n      <td>5</td>\n      <td>2011</td>\n      <td>2</td>\n      <td>15</td>\n      <td>1</td>\n      <td>0</td>\n      <td>0</td>\n      <td>0.0</td>\n      <td>0.0</td>\n      <td>0.0</td>\n      <td>0.0</td>\n      <td>0.0</td>\n      <td>0.0</td>\n      <td>0.0</td>\n      <td>0.0</td>\n      <td>CA_1-HOBBIES_1_001</td>\n      <td>07</td>\n    </tr>\n    <tr>\n      <th>518331</th>\n      <td>2011-02-15</td>\n      <td>Tuesday</td>\n      <td>HOBBIES_1_002_CA_1_evaluation</td>\n      <td>HOBBIES</td>\n      <td>HOBBIES_1_002</td>\n      <td>CA_1</td>\n      <td>0</td>\n      <td>5</td>\n      <td>2011</td>\n      <td>2</td>\n      <td>15</td>\n      <td>1</td>\n      <td>0</td>\n      <td>0</td>\n      <td>0.0</td>\n      <td>0.0</td>\n      <td>0.0</td>\n      <td>0.0</td>\n      <td>0.0</td>\n      <td>0.0</td>\n      <td>0.0</td>\n      <td>0.0</td>\n      <td>CA_1-HOBBIES_1_002</td>\n      <td>07</td>\n    </tr>\n  </tbody>\n</table>\n</div>"
     },
     "metadata": {}
    },
    {
     "output_type": "display_data",
     "data": {
      "text/plain": "             date weekday                           id cat_id      item_id  \\\n701268 2011-02-20  Sunday  FOODS_3_826_WI_3_evaluation  FOODS  FOODS_3_826   \n701269 2011-02-20  Sunday  FOODS_3_827_WI_3_evaluation  FOODS  FOODS_3_827   \n\n       store_id  sales_quantity  pred  year  month  day  dayofweek  p_holiday  \\\n701268     WI_3               0     5  2011      2   20          6          0   \n701269     WI_3               0     5  2011      2   20          6          0   \n\n        holiday  lag_1  lag_7  lag_1_diff  lag_7_diff  rmean_1_1  rmean_7_1  \\\n701268        1    0.0    0.0         0.0         0.0        0.0        0.0   \n701269        1    0.0    0.0         0.0         0.0        0.0        0.0   \n\n        rmean_1_7  rmean_7_7     store_item_id numofweek  \n701268        0.0        0.0  WI_3-FOODS_3_826        07  \n701269        0.0        0.0  WI_3-FOODS_3_827        07  ",
      "text/html": "<div>\n<style scoped>\n    .dataframe tbody tr th:only-of-type {\n        vertical-align: middle;\n    }\n\n    .dataframe tbody tr th {\n        vertical-align: top;\n    }\n\n    .dataframe thead th {\n        text-align: right;\n    }\n</style>\n<table border=\"1\" class=\"dataframe\">\n  <thead>\n    <tr style=\"text-align: right;\">\n      <th></th>\n      <th>date</th>\n      <th>weekday</th>\n      <th>id</th>\n      <th>cat_id</th>\n      <th>item_id</th>\n      <th>store_id</th>\n      <th>sales_quantity</th>\n      <th>pred</th>\n      <th>year</th>\n      <th>month</th>\n      <th>day</th>\n      <th>dayofweek</th>\n      <th>p_holiday</th>\n      <th>holiday</th>\n      <th>lag_1</th>\n      <th>lag_7</th>\n      <th>lag_1_diff</th>\n      <th>lag_7_diff</th>\n      <th>rmean_1_1</th>\n      <th>rmean_7_1</th>\n      <th>rmean_1_7</th>\n      <th>rmean_7_7</th>\n      <th>store_item_id</th>\n      <th>numofweek</th>\n    </tr>\n  </thead>\n  <tbody>\n    <tr>\n      <th>701268</th>\n      <td>2011-02-20</td>\n      <td>Sunday</td>\n      <td>FOODS_3_826_WI_3_evaluation</td>\n      <td>FOODS</td>\n      <td>FOODS_3_826</td>\n      <td>WI_3</td>\n      <td>0</td>\n      <td>5</td>\n      <td>2011</td>\n      <td>2</td>\n      <td>20</td>\n      <td>6</td>\n      <td>0</td>\n      <td>1</td>\n      <td>0.0</td>\n      <td>0.0</td>\n      <td>0.0</td>\n      <td>0.0</td>\n      <td>0.0</td>\n      <td>0.0</td>\n      <td>0.0</td>\n      <td>0.0</td>\n      <td>WI_3-FOODS_3_826</td>\n      <td>07</td>\n    </tr>\n    <tr>\n      <th>701269</th>\n      <td>2011-02-20</td>\n      <td>Sunday</td>\n      <td>FOODS_3_827_WI_3_evaluation</td>\n      <td>FOODS</td>\n      <td>FOODS_3_827</td>\n      <td>WI_3</td>\n      <td>0</td>\n      <td>5</td>\n      <td>2011</td>\n      <td>2</td>\n      <td>20</td>\n      <td>6</td>\n      <td>0</td>\n      <td>1</td>\n      <td>0.0</td>\n      <td>0.0</td>\n      <td>0.0</td>\n      <td>0.0</td>\n      <td>0.0</td>\n      <td>0.0</td>\n      <td>0.0</td>\n      <td>0.0</td>\n      <td>WI_3-FOODS_3_827</td>\n      <td>07</td>\n    </tr>\n  </tbody>\n</table>\n</div>"
     },
     "metadata": {}
    }
   ],
   "source": [
    "\n",
    "from_years, from_months, from_days = 2011, 2, 15\n",
    "till_years, till_months, till_days = 2011, 2, 20\n",
    "\n",
    "# 特定期間\n",
    "specific_period = dtable[(dtable[\"date\"] >= dt.datetime(from_years, from_months, from_days)) \\\n",
    "& (dtable[\"date\"] <= dt.datetime(till_years, till_months, till_days))]\n",
    "\n",
    "display(specific_period.head(2))\n",
    "display(specific_period.tail(2))"
   ]
  },
  {
   "source": [
    "### 特定期間の売上TOP 30%以内のitem_idを抽出"
   ],
   "cell_type": "markdown",
   "metadata": {}
  },
  {
   "cell_type": "code",
   "execution_count": 125,
   "metadata": {},
   "outputs": [
    {
     "output_type": "execute_result",
     "data": {
      "text/plain": [
       "             sales_quantity  pred    year  month   day  dayofweek  p_holiday  \\\n",
       "item_id                                                                        \n",
       "FOODS_3_586            2907   300  120660    120  1050        210          0   \n",
       "FOODS_3_587            2023   300  120660    120  1050        210          0   \n",
       "FOODS_3_555            1789   300  120660    120  1050        210          0   \n",
       "FOODS_3_252            1611   300  120660    120  1050        210          0   \n",
       "FOODS_3_694            1416   300  120660    120  1050        210          0   \n",
       "\n",
       "             holiday   lag_1   lag_7  lag_1_diff  lag_7_diff  rmean_1_1  \\\n",
       "item_id                                                                   \n",
       "FOODS_3_586       20  2795.0  3101.0      -105.0       410.0     2795.0   \n",
       "FOODS_3_587       20  1884.0  2345.0       -98.0       346.0     1884.0   \n",
       "FOODS_3_555       20  1691.0  1829.0        -7.0       181.0     1691.0   \n",
       "FOODS_3_252       20  1549.0  1712.0       -62.0       345.0     1549.0   \n",
       "FOODS_3_694       20  1406.0  1439.0       -51.0        39.0     1406.0   \n",
       "\n",
       "             rmean_7_1    rmean_1_7    rmean_7_7  cum_ratio  \n",
       "item_id                                                      \n",
       "FOODS_3_586     3101.0  3082.714286  2805.714286   0.019313  \n",
       "FOODS_3_587     2345.0  2173.285714  2335.428571   0.032752  \n",
       "FOODS_3_555     1829.0  1781.714286  1696.428571   0.044637  \n",
       "FOODS_3_252     1712.0  1737.571429  1449.714286   0.055340  \n",
       "FOODS_3_694     1439.0  1482.857143  1349.142857   0.064747  "
      ],
      "text/html": "<div>\n<style scoped>\n    .dataframe tbody tr th:only-of-type {\n        vertical-align: middle;\n    }\n\n    .dataframe tbody tr th {\n        vertical-align: top;\n    }\n\n    .dataframe thead th {\n        text-align: right;\n    }\n</style>\n<table border=\"1\" class=\"dataframe\">\n  <thead>\n    <tr style=\"text-align: right;\">\n      <th></th>\n      <th>sales_quantity</th>\n      <th>pred</th>\n      <th>year</th>\n      <th>month</th>\n      <th>day</th>\n      <th>dayofweek</th>\n      <th>p_holiday</th>\n      <th>holiday</th>\n      <th>lag_1</th>\n      <th>lag_7</th>\n      <th>lag_1_diff</th>\n      <th>lag_7_diff</th>\n      <th>rmean_1_1</th>\n      <th>rmean_7_1</th>\n      <th>rmean_1_7</th>\n      <th>rmean_7_7</th>\n      <th>cum_ratio</th>\n    </tr>\n    <tr>\n      <th>item_id</th>\n      <th></th>\n      <th></th>\n      <th></th>\n      <th></th>\n      <th></th>\n      <th></th>\n      <th></th>\n      <th></th>\n      <th></th>\n      <th></th>\n      <th></th>\n      <th></th>\n      <th></th>\n      <th></th>\n      <th></th>\n      <th></th>\n      <th></th>\n    </tr>\n  </thead>\n  <tbody>\n    <tr>\n      <th>FOODS_3_586</th>\n      <td>2907</td>\n      <td>300</td>\n      <td>120660</td>\n      <td>120</td>\n      <td>1050</td>\n      <td>210</td>\n      <td>0</td>\n      <td>20</td>\n      <td>2795.0</td>\n      <td>3101.0</td>\n      <td>-105.0</td>\n      <td>410.0</td>\n      <td>2795.0</td>\n      <td>3101.0</td>\n      <td>3082.714286</td>\n      <td>2805.714286</td>\n      <td>0.019313</td>\n    </tr>\n    <tr>\n      <th>FOODS_3_587</th>\n      <td>2023</td>\n      <td>300</td>\n      <td>120660</td>\n      <td>120</td>\n      <td>1050</td>\n      <td>210</td>\n      <td>0</td>\n      <td>20</td>\n      <td>1884.0</td>\n      <td>2345.0</td>\n      <td>-98.0</td>\n      <td>346.0</td>\n      <td>1884.0</td>\n      <td>2345.0</td>\n      <td>2173.285714</td>\n      <td>2335.428571</td>\n      <td>0.032752</td>\n    </tr>\n    <tr>\n      <th>FOODS_3_555</th>\n      <td>1789</td>\n      <td>300</td>\n      <td>120660</td>\n      <td>120</td>\n      <td>1050</td>\n      <td>210</td>\n      <td>0</td>\n      <td>20</td>\n      <td>1691.0</td>\n      <td>1829.0</td>\n      <td>-7.0</td>\n      <td>181.0</td>\n      <td>1691.0</td>\n      <td>1829.0</td>\n      <td>1781.714286</td>\n      <td>1696.428571</td>\n      <td>0.044637</td>\n    </tr>\n    <tr>\n      <th>FOODS_3_252</th>\n      <td>1611</td>\n      <td>300</td>\n      <td>120660</td>\n      <td>120</td>\n      <td>1050</td>\n      <td>210</td>\n      <td>0</td>\n      <td>20</td>\n      <td>1549.0</td>\n      <td>1712.0</td>\n      <td>-62.0</td>\n      <td>345.0</td>\n      <td>1549.0</td>\n      <td>1712.0</td>\n      <td>1737.571429</td>\n      <td>1449.714286</td>\n      <td>0.055340</td>\n    </tr>\n    <tr>\n      <th>FOODS_3_694</th>\n      <td>1416</td>\n      <td>300</td>\n      <td>120660</td>\n      <td>120</td>\n      <td>1050</td>\n      <td>210</td>\n      <td>0</td>\n      <td>20</td>\n      <td>1406.0</td>\n      <td>1439.0</td>\n      <td>-51.0</td>\n      <td>39.0</td>\n      <td>1406.0</td>\n      <td>1439.0</td>\n      <td>1482.857143</td>\n      <td>1349.142857</td>\n      <td>0.064747</td>\n    </tr>\n  </tbody>\n</table>\n</div>"
     },
     "metadata": {},
     "execution_count": 125
    }
   ],
   "source": [
    "item_id_group = pd.DataFrame(specific_period.groupby(\"item_id\").sum()).sort_values('sales_quantity', ascending=False)\n",
    "\n",
    "# 降順で累積\n",
    "item_id_group[\"cum_ratio\"] = item_id_group[\"sales_quantity\"].cumsum()/item_id_group[\"sales_quantity\"].sum()\n",
    "\n",
    "item_id_group.head()"
   ]
  },
  {
   "source": [],
   "cell_type": "markdown",
   "metadata": {}
  },
  {
   "cell_type": "code",
   "execution_count": 126,
   "metadata": {},
   "outputs": [],
   "source": [
    "# 売上TOP30%のitem_idのリスト\n",
    "top30_item_id_list = list(item_id_group[item_id_group[\"cum_ratio\"]<=0.3].index)"
   ]
  },
  {
   "cell_type": "code",
   "execution_count": 127,
   "metadata": {},
   "outputs": [
    {
     "output_type": "execute_result",
     "data": {
      "text/plain": [
       "          date   weekday                             id   cat_id  \\\n",
       "31  2011-01-29  Saturday  HOBBIES_1_032_CA_1_evaluation  HOBBIES   \n",
       "65  2011-01-29  Saturday  HOBBIES_1_067_CA_1_evaluation  HOBBIES   \n",
       "98  2011-01-29  Saturday  HOBBIES_1_103_CA_1_evaluation  HOBBIES   \n",
       "332 2011-01-29  Saturday  HOBBIES_1_341_CA_1_evaluation  HOBBIES   \n",
       "362 2011-01-29  Saturday  HOBBIES_1_371_CA_1_evaluation  HOBBIES   \n",
       "\n",
       "           item_id store_id  sales_quantity  pred  year  month  day  \\\n",
       "31   HOBBIES_1_032     CA_1               9     5  2011      1   29   \n",
       "65   HOBBIES_1_067     CA_1               0     5  2011      1   29   \n",
       "98   HOBBIES_1_103     CA_1              25     5  2011      1   29   \n",
       "332  HOBBIES_1_341     CA_1              50     5  2011      1   29   \n",
       "362  HOBBIES_1_371     CA_1              14     5  2011      1   29   \n",
       "\n",
       "     dayofweek  p_holiday  holiday  lag_1  lag_7  lag_1_diff  lag_7_diff  \\\n",
       "31           5          0        1    NaN    NaN         NaN         NaN   \n",
       "65           5          0        1    NaN    NaN         NaN         NaN   \n",
       "98           5          0        1    NaN    NaN         NaN         NaN   \n",
       "332          5          0        1    NaN    NaN         NaN         NaN   \n",
       "362          5          0        1    NaN    NaN         NaN         NaN   \n",
       "\n",
       "     rmean_1_1  rmean_7_1  rmean_1_7  rmean_7_7       store_item_id numofweek  \n",
       "31         NaN        NaN        NaN        NaN  CA_1-HOBBIES_1_032        04  \n",
       "65         NaN        NaN        NaN        NaN  CA_1-HOBBIES_1_067        04  \n",
       "98         NaN        NaN        NaN        NaN  CA_1-HOBBIES_1_103        04  \n",
       "332        NaN        NaN        NaN        NaN  CA_1-HOBBIES_1_341        04  \n",
       "362        NaN        NaN        NaN        NaN  CA_1-HOBBIES_1_371        04  "
      ],
      "text/html": "<div>\n<style scoped>\n    .dataframe tbody tr th:only-of-type {\n        vertical-align: middle;\n    }\n\n    .dataframe tbody tr th {\n        vertical-align: top;\n    }\n\n    .dataframe thead th {\n        text-align: right;\n    }\n</style>\n<table border=\"1\" class=\"dataframe\">\n  <thead>\n    <tr style=\"text-align: right;\">\n      <th></th>\n      <th>date</th>\n      <th>weekday</th>\n      <th>id</th>\n      <th>cat_id</th>\n      <th>item_id</th>\n      <th>store_id</th>\n      <th>sales_quantity</th>\n      <th>pred</th>\n      <th>year</th>\n      <th>month</th>\n      <th>day</th>\n      <th>dayofweek</th>\n      <th>p_holiday</th>\n      <th>holiday</th>\n      <th>lag_1</th>\n      <th>lag_7</th>\n      <th>lag_1_diff</th>\n      <th>lag_7_diff</th>\n      <th>rmean_1_1</th>\n      <th>rmean_7_1</th>\n      <th>rmean_1_7</th>\n      <th>rmean_7_7</th>\n      <th>store_item_id</th>\n      <th>numofweek</th>\n    </tr>\n  </thead>\n  <tbody>\n    <tr>\n      <th>31</th>\n      <td>2011-01-29</td>\n      <td>Saturday</td>\n      <td>HOBBIES_1_032_CA_1_evaluation</td>\n      <td>HOBBIES</td>\n      <td>HOBBIES_1_032</td>\n      <td>CA_1</td>\n      <td>9</td>\n      <td>5</td>\n      <td>2011</td>\n      <td>1</td>\n      <td>29</td>\n      <td>5</td>\n      <td>0</td>\n      <td>1</td>\n      <td>NaN</td>\n      <td>NaN</td>\n      <td>NaN</td>\n      <td>NaN</td>\n      <td>NaN</td>\n      <td>NaN</td>\n      <td>NaN</td>\n      <td>NaN</td>\n      <td>CA_1-HOBBIES_1_032</td>\n      <td>04</td>\n    </tr>\n    <tr>\n      <th>65</th>\n      <td>2011-01-29</td>\n      <td>Saturday</td>\n      <td>HOBBIES_1_067_CA_1_evaluation</td>\n      <td>HOBBIES</td>\n      <td>HOBBIES_1_067</td>\n      <td>CA_1</td>\n      <td>0</td>\n      <td>5</td>\n      <td>2011</td>\n      <td>1</td>\n      <td>29</td>\n      <td>5</td>\n      <td>0</td>\n      <td>1</td>\n      <td>NaN</td>\n      <td>NaN</td>\n      <td>NaN</td>\n      <td>NaN</td>\n      <td>NaN</td>\n      <td>NaN</td>\n      <td>NaN</td>\n      <td>NaN</td>\n      <td>CA_1-HOBBIES_1_067</td>\n      <td>04</td>\n    </tr>\n    <tr>\n      <th>98</th>\n      <td>2011-01-29</td>\n      <td>Saturday</td>\n      <td>HOBBIES_1_103_CA_1_evaluation</td>\n      <td>HOBBIES</td>\n      <td>HOBBIES_1_103</td>\n      <td>CA_1</td>\n      <td>25</td>\n      <td>5</td>\n      <td>2011</td>\n      <td>1</td>\n      <td>29</td>\n      <td>5</td>\n      <td>0</td>\n      <td>1</td>\n      <td>NaN</td>\n      <td>NaN</td>\n      <td>NaN</td>\n      <td>NaN</td>\n      <td>NaN</td>\n      <td>NaN</td>\n      <td>NaN</td>\n      <td>NaN</td>\n      <td>CA_1-HOBBIES_1_103</td>\n      <td>04</td>\n    </tr>\n    <tr>\n      <th>332</th>\n      <td>2011-01-29</td>\n      <td>Saturday</td>\n      <td>HOBBIES_1_341_CA_1_evaluation</td>\n      <td>HOBBIES</td>\n      <td>HOBBIES_1_341</td>\n      <td>CA_1</td>\n      <td>50</td>\n      <td>5</td>\n      <td>2011</td>\n      <td>1</td>\n      <td>29</td>\n      <td>5</td>\n      <td>0</td>\n      <td>1</td>\n      <td>NaN</td>\n      <td>NaN</td>\n      <td>NaN</td>\n      <td>NaN</td>\n      <td>NaN</td>\n      <td>NaN</td>\n      <td>NaN</td>\n      <td>NaN</td>\n      <td>CA_1-HOBBIES_1_341</td>\n      <td>04</td>\n    </tr>\n    <tr>\n      <th>362</th>\n      <td>2011-01-29</td>\n      <td>Saturday</td>\n      <td>HOBBIES_1_371_CA_1_evaluation</td>\n      <td>HOBBIES</td>\n      <td>HOBBIES_1_371</td>\n      <td>CA_1</td>\n      <td>14</td>\n      <td>5</td>\n      <td>2011</td>\n      <td>1</td>\n      <td>29</td>\n      <td>5</td>\n      <td>0</td>\n      <td>1</td>\n      <td>NaN</td>\n      <td>NaN</td>\n      <td>NaN</td>\n      <td>NaN</td>\n      <td>NaN</td>\n      <td>NaN</td>\n      <td>NaN</td>\n      <td>NaN</td>\n      <td>CA_1-HOBBIES_1_371</td>\n      <td>04</td>\n    </tr>\n  </tbody>\n</table>\n</div>"
     },
     "metadata": {},
     "execution_count": 127
    }
   ],
   "source": [
    "# 売上TOP30%のitem_idを含む項目のみ表示\n",
    "dtable[dtable[\"item_id\"].isin(top30_item_id_list)].head()"
   ]
  },
  {
   "cell_type": "code",
   "execution_count": 128,
   "metadata": {},
   "outputs": [
    {
     "output_type": "stream",
     "name": "stdout",
     "text": [
      "トップ30%\n"
     ]
    },
    {
     "output_type": "display_data",
     "data": {
      "text/plain": "           sales_quantity   pred      year  month     day  dayofweek  \\\ncat_id                                                                 \nFOODS              196765  79750  32075450  30250  242550      48950   \nHOBBIES             10592   7250   2915950   2750   22050       4450   \nHOUSEHOLD            9348   7250   2915950   2750   22050       4450   \n\n           p_holiday  holiday     lag_1     lag_7  lag_1_diff  lag_7_diff  \\\ncat_id                                                                      \nFOODS            550     5500  189378.0  153422.0     -1148.0      5253.0   \nHOBBIES           50      500    9979.0    7861.0      -207.0      -449.0   \nHOUSEHOLD         50      500    8827.0    6435.0        10.0       286.0   \n\n           rmean_1_1  rmean_7_1      rmean_1_7      rmean_7_7  \ncat_id                                                         \nFOODS       189378.0   153422.0  153191.000000  114151.571429  \nHOBBIES       9979.0     7861.0    7753.857143    5647.285714  \nHOUSEHOLD     8827.0     6435.0    6785.571429    4488.571429  ",
      "text/html": "<div>\n<style scoped>\n    .dataframe tbody tr th:only-of-type {\n        vertical-align: middle;\n    }\n\n    .dataframe tbody tr th {\n        vertical-align: top;\n    }\n\n    .dataframe thead th {\n        text-align: right;\n    }\n</style>\n<table border=\"1\" class=\"dataframe\">\n  <thead>\n    <tr style=\"text-align: right;\">\n      <th></th>\n      <th>sales_quantity</th>\n      <th>pred</th>\n      <th>year</th>\n      <th>month</th>\n      <th>day</th>\n      <th>dayofweek</th>\n      <th>p_holiday</th>\n      <th>holiday</th>\n      <th>lag_1</th>\n      <th>lag_7</th>\n      <th>lag_1_diff</th>\n      <th>lag_7_diff</th>\n      <th>rmean_1_1</th>\n      <th>rmean_7_1</th>\n      <th>rmean_1_7</th>\n      <th>rmean_7_7</th>\n    </tr>\n    <tr>\n      <th>cat_id</th>\n      <th></th>\n      <th></th>\n      <th></th>\n      <th></th>\n      <th></th>\n      <th></th>\n      <th></th>\n      <th></th>\n      <th></th>\n      <th></th>\n      <th></th>\n      <th></th>\n      <th></th>\n      <th></th>\n      <th></th>\n      <th></th>\n    </tr>\n  </thead>\n  <tbody>\n    <tr>\n      <th>FOODS</th>\n      <td>196765</td>\n      <td>79750</td>\n      <td>32075450</td>\n      <td>30250</td>\n      <td>242550</td>\n      <td>48950</td>\n      <td>550</td>\n      <td>5500</td>\n      <td>189378.0</td>\n      <td>153422.0</td>\n      <td>-1148.0</td>\n      <td>5253.0</td>\n      <td>189378.0</td>\n      <td>153422.0</td>\n      <td>153191.000000</td>\n      <td>114151.571429</td>\n    </tr>\n    <tr>\n      <th>HOBBIES</th>\n      <td>10592</td>\n      <td>7250</td>\n      <td>2915950</td>\n      <td>2750</td>\n      <td>22050</td>\n      <td>4450</td>\n      <td>50</td>\n      <td>500</td>\n      <td>9979.0</td>\n      <td>7861.0</td>\n      <td>-207.0</td>\n      <td>-449.0</td>\n      <td>9979.0</td>\n      <td>7861.0</td>\n      <td>7753.857143</td>\n      <td>5647.285714</td>\n    </tr>\n    <tr>\n      <th>HOUSEHOLD</th>\n      <td>9348</td>\n      <td>7250</td>\n      <td>2915950</td>\n      <td>2750</td>\n      <td>22050</td>\n      <td>4450</td>\n      <td>50</td>\n      <td>500</td>\n      <td>8827.0</td>\n      <td>6435.0</td>\n      <td>10.0</td>\n      <td>286.0</td>\n      <td>8827.0</td>\n      <td>6435.0</td>\n      <td>6785.571429</td>\n      <td>4488.571429</td>\n    </tr>\n  </tbody>\n</table>\n</div>"
     },
     "metadata": {}
    },
    {
     "output_type": "stream",
     "name": "stdout",
     "text": [
      "トップ30%以外\n"
     ]
    },
    {
     "output_type": "display_data",
     "data": {
      "text/plain": "           sales_quantity     pred       year   month      day  dayofweek  \\\ncat_id                                                                      \nFOODS              350869  2003900  805968580  760100  6094620    1229980   \nHOBBIES             72684   812000  326586400  308000  2469600     498400   \nHOUSEHOLD          124333  1510900  607683980  573100  4595220     927380   \n\n           p_holiday  holiday     lag_1     lag_7  lag_1_diff  lag_7_diff  \\\ncat_id                                                                      \nFOODS          13820   138200  338351.0  280718.0     -6550.0    -17158.0   \nHOBBIES         5600    56000   69209.0   55163.0      -882.0     -1152.0   \nHOUSEHOLD      10420   104200  118939.0   93771.0     -1325.0      2703.0   \n\n           rmean_1_1  rmean_7_1      rmean_1_7      rmean_7_7  \ncat_id                                                         \nFOODS       338351.0   280718.0  268586.142857  206822.285714  \nHOBBIES      69209.0    55163.0   54197.857143   39766.571429  \nHOUSEHOLD   118939.0    93771.0   93924.714286   66824.285714  ",
      "text/html": "<div>\n<style scoped>\n    .dataframe tbody tr th:only-of-type {\n        vertical-align: middle;\n    }\n\n    .dataframe tbody tr th {\n        vertical-align: top;\n    }\n\n    .dataframe thead th {\n        text-align: right;\n    }\n</style>\n<table border=\"1\" class=\"dataframe\">\n  <thead>\n    <tr style=\"text-align: right;\">\n      <th></th>\n      <th>sales_quantity</th>\n      <th>pred</th>\n      <th>year</th>\n      <th>month</th>\n      <th>day</th>\n      <th>dayofweek</th>\n      <th>p_holiday</th>\n      <th>holiday</th>\n      <th>lag_1</th>\n      <th>lag_7</th>\n      <th>lag_1_diff</th>\n      <th>lag_7_diff</th>\n      <th>rmean_1_1</th>\n      <th>rmean_7_1</th>\n      <th>rmean_1_7</th>\n      <th>rmean_7_7</th>\n    </tr>\n    <tr>\n      <th>cat_id</th>\n      <th></th>\n      <th></th>\n      <th></th>\n      <th></th>\n      <th></th>\n      <th></th>\n      <th></th>\n      <th></th>\n      <th></th>\n      <th></th>\n      <th></th>\n      <th></th>\n      <th></th>\n      <th></th>\n      <th></th>\n      <th></th>\n    </tr>\n  </thead>\n  <tbody>\n    <tr>\n      <th>FOODS</th>\n      <td>350869</td>\n      <td>2003900</td>\n      <td>805968580</td>\n      <td>760100</td>\n      <td>6094620</td>\n      <td>1229980</td>\n      <td>13820</td>\n      <td>138200</td>\n      <td>338351.0</td>\n      <td>280718.0</td>\n      <td>-6550.0</td>\n      <td>-17158.0</td>\n      <td>338351.0</td>\n      <td>280718.0</td>\n      <td>268586.142857</td>\n      <td>206822.285714</td>\n    </tr>\n    <tr>\n      <th>HOBBIES</th>\n      <td>72684</td>\n      <td>812000</td>\n      <td>326586400</td>\n      <td>308000</td>\n      <td>2469600</td>\n      <td>498400</td>\n      <td>5600</td>\n      <td>56000</td>\n      <td>69209.0</td>\n      <td>55163.0</td>\n      <td>-882.0</td>\n      <td>-1152.0</td>\n      <td>69209.0</td>\n      <td>55163.0</td>\n      <td>54197.857143</td>\n      <td>39766.571429</td>\n    </tr>\n    <tr>\n      <th>HOUSEHOLD</th>\n      <td>124333</td>\n      <td>1510900</td>\n      <td>607683980</td>\n      <td>573100</td>\n      <td>4595220</td>\n      <td>927380</td>\n      <td>10420</td>\n      <td>104200</td>\n      <td>118939.0</td>\n      <td>93771.0</td>\n      <td>-1325.0</td>\n      <td>2703.0</td>\n      <td>118939.0</td>\n      <td>93771.0</td>\n      <td>93924.714286</td>\n      <td>66824.285714</td>\n    </tr>\n  </tbody>\n</table>\n</div>"
     },
     "metadata": {}
    },
    {
     "output_type": "stream",
     "name": "stdout",
     "text": [
      "全部\n"
     ]
    },
    {
     "output_type": "display_data",
     "data": {
      "text/plain": "           sales_quantity     pred       year   month      day  dayofweek  \\\ncat_id                                                                      \nFOODS              547634  2083650  838044030  790350  6337170    1278930   \nHOBBIES             83276   819250  329502350  310750  2491650     502850   \nHOUSEHOLD          133681  1518150  610599930  575850  4617270     931830   \n\n           p_holiday  holiday     lag_1     lag_7  lag_1_diff  lag_7_diff  \\\ncat_id                                                                      \nFOODS          14370   143700  527729.0  434140.0     -7698.0    -11905.0   \nHOBBIES         5650    56500   79188.0   63024.0     -1089.0     -1601.0   \nHOUSEHOLD      10470   104700  127766.0  100206.0     -1315.0      2989.0   \n\n           rmean_1_1  rmean_7_1      rmean_1_7      rmean_7_7  \ncat_id                                                         \nFOODS       527729.0   434140.0  421777.142857  320973.857143  \nHOBBIES      79188.0    63024.0   61951.714286   45413.857143  \nHOUSEHOLD   127766.0   100206.0  100710.285714   71312.857143  ",
      "text/html": "<div>\n<style scoped>\n    .dataframe tbody tr th:only-of-type {\n        vertical-align: middle;\n    }\n\n    .dataframe tbody tr th {\n        vertical-align: top;\n    }\n\n    .dataframe thead th {\n        text-align: right;\n    }\n</style>\n<table border=\"1\" class=\"dataframe\">\n  <thead>\n    <tr style=\"text-align: right;\">\n      <th></th>\n      <th>sales_quantity</th>\n      <th>pred</th>\n      <th>year</th>\n      <th>month</th>\n      <th>day</th>\n      <th>dayofweek</th>\n      <th>p_holiday</th>\n      <th>holiday</th>\n      <th>lag_1</th>\n      <th>lag_7</th>\n      <th>lag_1_diff</th>\n      <th>lag_7_diff</th>\n      <th>rmean_1_1</th>\n      <th>rmean_7_1</th>\n      <th>rmean_1_7</th>\n      <th>rmean_7_7</th>\n    </tr>\n    <tr>\n      <th>cat_id</th>\n      <th></th>\n      <th></th>\n      <th></th>\n      <th></th>\n      <th></th>\n      <th></th>\n      <th></th>\n      <th></th>\n      <th></th>\n      <th></th>\n      <th></th>\n      <th></th>\n      <th></th>\n      <th></th>\n      <th></th>\n      <th></th>\n    </tr>\n  </thead>\n  <tbody>\n    <tr>\n      <th>FOODS</th>\n      <td>547634</td>\n      <td>2083650</td>\n      <td>838044030</td>\n      <td>790350</td>\n      <td>6337170</td>\n      <td>1278930</td>\n      <td>14370</td>\n      <td>143700</td>\n      <td>527729.0</td>\n      <td>434140.0</td>\n      <td>-7698.0</td>\n      <td>-11905.0</td>\n      <td>527729.0</td>\n      <td>434140.0</td>\n      <td>421777.142857</td>\n      <td>320973.857143</td>\n    </tr>\n    <tr>\n      <th>HOBBIES</th>\n      <td>83276</td>\n      <td>819250</td>\n      <td>329502350</td>\n      <td>310750</td>\n      <td>2491650</td>\n      <td>502850</td>\n      <td>5650</td>\n      <td>56500</td>\n      <td>79188.0</td>\n      <td>63024.0</td>\n      <td>-1089.0</td>\n      <td>-1601.0</td>\n      <td>79188.0</td>\n      <td>63024.0</td>\n      <td>61951.714286</td>\n      <td>45413.857143</td>\n    </tr>\n    <tr>\n      <th>HOUSEHOLD</th>\n      <td>133681</td>\n      <td>1518150</td>\n      <td>610599930</td>\n      <td>575850</td>\n      <td>4617270</td>\n      <td>931830</td>\n      <td>10470</td>\n      <td>104700</td>\n      <td>127766.0</td>\n      <td>100206.0</td>\n      <td>-1315.0</td>\n      <td>2989.0</td>\n      <td>127766.0</td>\n      <td>100206.0</td>\n      <td>100710.285714</td>\n      <td>71312.857143</td>\n    </tr>\n  </tbody>\n</table>\n</div>"
     },
     "metadata": {}
    }
   ],
   "source": [
    "# トップ30%の合計をcat_idごとに集計\n",
    "print(\"トップ30%\")\n",
    "display(dtable[dtable[\"item_id\"].isin(top30_item_id_list)].groupby(\"cat_id\").sum())\n",
    "\n",
    "# トップ30%以外の合計をcat_idごとに集計\n",
    "print(\"トップ30%以外\")\n",
    "display(dtable[~dtable[\"item_id\"].isin(top30_item_id_list)].groupby(\"cat_id\").sum())\n",
    "\n",
    "# 全部の合計をcat_idごとに集計\n",
    "print(\"全部\")\n",
    "display(dtable.groupby(\"cat_id\").sum())"
   ]
  },
  {
   "source": [
    "### 店舗別にトップ30% item_id を抽出"
   ],
   "cell_type": "markdown",
   "metadata": {}
  },
  {
   "cell_type": "code",
   "execution_count": 129,
   "metadata": {},
   "outputs": [
    {
     "output_type": "execute_result",
     "data": {
      "text/plain": [
       "                      sales_quantity\n",
       "store_id item_id                    \n",
       "CA_1     FOODS_1_001              41\n",
       "         FOODS_1_002              10\n",
       "         FOODS_1_003              26\n",
       "         FOODS_1_004               0\n",
       "         FOODS_1_005              84"
      ],
      "text/html": "<div>\n<style scoped>\n    .dataframe tbody tr th:only-of-type {\n        vertical-align: middle;\n    }\n\n    .dataframe tbody tr th {\n        vertical-align: top;\n    }\n\n    .dataframe thead th {\n        text-align: right;\n    }\n</style>\n<table border=\"1\" class=\"dataframe\">\n  <thead>\n    <tr style=\"text-align: right;\">\n      <th></th>\n      <th></th>\n      <th>sales_quantity</th>\n    </tr>\n    <tr>\n      <th>store_id</th>\n      <th>item_id</th>\n      <th></th>\n    </tr>\n  </thead>\n  <tbody>\n    <tr>\n      <th rowspan=\"5\" valign=\"top\">CA_1</th>\n      <th>FOODS_1_001</th>\n      <td>41</td>\n    </tr>\n    <tr>\n      <th>FOODS_1_002</th>\n      <td>10</td>\n    </tr>\n    <tr>\n      <th>FOODS_1_003</th>\n      <td>26</td>\n    </tr>\n    <tr>\n      <th>FOODS_1_004</th>\n      <td>0</td>\n    </tr>\n    <tr>\n      <th>FOODS_1_005</th>\n      <td>84</td>\n    </tr>\n  </tbody>\n</table>\n</div>"
     },
     "metadata": {},
     "execution_count": 129
    }
   ],
   "source": [
    "# store_id、item_idで集計\n",
    "store_item_id_group_sum = dtable[[\"store_id\", \"item_id\", \"sales_quantity\"]].groupby([\"store_id\", \"item_id\"]).sum()\n",
    "\n",
    "store_item_id_group_sum.head()"
   ]
  },
  {
   "cell_type": "code",
   "execution_count": 130,
   "metadata": {},
   "outputs": [
    {
     "output_type": "execute_result",
     "data": {
      "text/plain": [
       "                      sales_quantity\n",
       "store_id item_id                    \n",
       "CA_1     FOODS_3_587            2211\n",
       "         FOODS_3_318            1737\n",
       "         FOODS_3_586            1109\n",
       "         FOODS_3_714            1095\n",
       "         FOODS_3_030            1059"
      ],
      "text/html": "<div>\n<style scoped>\n    .dataframe tbody tr th:only-of-type {\n        vertical-align: middle;\n    }\n\n    .dataframe tbody tr th {\n        vertical-align: top;\n    }\n\n    .dataframe thead th {\n        text-align: right;\n    }\n</style>\n<table border=\"1\" class=\"dataframe\">\n  <thead>\n    <tr style=\"text-align: right;\">\n      <th></th>\n      <th></th>\n      <th>sales_quantity</th>\n    </tr>\n    <tr>\n      <th>store_id</th>\n      <th>item_id</th>\n      <th></th>\n    </tr>\n  </thead>\n  <tbody>\n    <tr>\n      <th rowspan=\"5\" valign=\"top\">CA_1</th>\n      <th>FOODS_3_587</th>\n      <td>2211</td>\n    </tr>\n    <tr>\n      <th>FOODS_3_318</th>\n      <td>1737</td>\n    </tr>\n    <tr>\n      <th>FOODS_3_586</th>\n      <td>1109</td>\n    </tr>\n    <tr>\n      <th>FOODS_3_714</th>\n      <td>1095</td>\n    </tr>\n    <tr>\n      <th>FOODS_3_030</th>\n      <td>1059</td>\n    </tr>\n  </tbody>\n</table>\n</div>"
     },
     "metadata": {},
     "execution_count": 130
    }
   ],
   "source": [
    "# store_idはそのままに、店舗ごとにitem_idがsales_quantityの降順に並ぶようにソート\n",
    "store_item_id_group_sum_sort = store_item_id_group_sum.sort_values([\"store_id\", \"sales_quantity\"], ascending=[True, False])\n",
    "\n",
    "store_item_id_group_sum_sort.head()"
   ]
  },
  {
   "cell_type": "code",
   "execution_count": 131,
   "metadata": {},
   "outputs": [
    {
     "output_type": "execute_result",
     "data": {
      "text/plain": [
       "                      sales_quantity\n",
       "store_id item_id                    \n",
       "CA_1     FOODS_3_587            2211\n",
       "         FOODS_3_318            3948\n",
       "         FOODS_3_586            5057\n",
       "         FOODS_3_714            6152\n",
       "         FOODS_3_030            7211"
      ],
      "text/html": "<div>\n<style scoped>\n    .dataframe tbody tr th:only-of-type {\n        vertical-align: middle;\n    }\n\n    .dataframe tbody tr th {\n        vertical-align: top;\n    }\n\n    .dataframe thead th {\n        text-align: right;\n    }\n</style>\n<table border=\"1\" class=\"dataframe\">\n  <thead>\n    <tr style=\"text-align: right;\">\n      <th></th>\n      <th></th>\n      <th>sales_quantity</th>\n    </tr>\n    <tr>\n      <th>store_id</th>\n      <th>item_id</th>\n      <th></th>\n    </tr>\n  </thead>\n  <tbody>\n    <tr>\n      <th rowspan=\"5\" valign=\"top\">CA_1</th>\n      <th>FOODS_3_587</th>\n      <td>2211</td>\n    </tr>\n    <tr>\n      <th>FOODS_3_318</th>\n      <td>3948</td>\n    </tr>\n    <tr>\n      <th>FOODS_3_586</th>\n      <td>5057</td>\n    </tr>\n    <tr>\n      <th>FOODS_3_714</th>\n      <td>6152</td>\n    </tr>\n    <tr>\n      <th>FOODS_3_030</th>\n      <td>7211</td>\n    </tr>\n  </tbody>\n</table>\n</div>"
     },
     "metadata": {},
     "execution_count": 131
    }
   ],
   "source": [
    "# sales_quantityの累計を算定\n",
    "store_item_id_group_sum_sort_cumsum = store_item_id_group_sum_sort.groupby(\"store_id\").transform(np.cumsum)\n",
    "\n",
    "store_item_id_group_sum_sort_cumsum.head()"
   ]
  },
  {
   "cell_type": "code",
   "execution_count": 132,
   "metadata": {},
   "outputs": [
    {
     "output_type": "execute_result",
     "data": {
      "text/plain": [
       "                      sales_quantity\n",
       "store_id item_id                    \n",
       "CA_1     FOODS_1_001           80621\n",
       "         FOODS_1_002           93201\n",
       "         FOODS_1_003           87608\n",
       "         FOODS_1_004           94948\n",
       "         FOODS_1_005           63935"
      ],
      "text/html": "<div>\n<style scoped>\n    .dataframe tbody tr th:only-of-type {\n        vertical-align: middle;\n    }\n\n    .dataframe tbody tr th {\n        vertical-align: top;\n    }\n\n    .dataframe thead th {\n        text-align: right;\n    }\n</style>\n<table border=\"1\" class=\"dataframe\">\n  <thead>\n    <tr style=\"text-align: right;\">\n      <th></th>\n      <th></th>\n      <th>sales_quantity</th>\n    </tr>\n    <tr>\n      <th>store_id</th>\n      <th>item_id</th>\n      <th></th>\n    </tr>\n  </thead>\n  <tbody>\n    <tr>\n      <th rowspan=\"5\" valign=\"top\">CA_1</th>\n      <th>FOODS_1_001</th>\n      <td>80621</td>\n    </tr>\n    <tr>\n      <th>FOODS_1_002</th>\n      <td>93201</td>\n    </tr>\n    <tr>\n      <th>FOODS_1_003</th>\n      <td>87608</td>\n    </tr>\n    <tr>\n      <th>FOODS_1_004</th>\n      <td>94948</td>\n    </tr>\n    <tr>\n      <th>FOODS_1_005</th>\n      <td>63935</td>\n    </tr>\n  </tbody>\n</table>\n</div>"
     },
     "metadata": {},
     "execution_count": 132
    }
   ],
   "source": [
    "# 分母と並びを合わせるため、店舗別にitem_idを昇順に並び替える\n",
    "numerator = store_item_id_group_sum_sort_cumsum.sort_values([\"store_id\", \"item_id\"], ascending=[True, True])\n",
    "\n",
    "numerator.head()"
   ]
  },
  {
   "cell_type": "code",
   "execution_count": 133,
   "metadata": {},
   "outputs": [
    {
     "output_type": "execute_result",
     "data": {
      "text/plain": [
       "                      sales_quantity\n",
       "store_id item_id                    \n",
       "CA_1     FOODS_1_001              41\n",
       "         FOODS_1_002              10\n",
       "         FOODS_1_003              26\n",
       "         FOODS_1_004               0\n",
       "         FOODS_1_005              84"
      ],
      "text/html": "<div>\n<style scoped>\n    .dataframe tbody tr th:only-of-type {\n        vertical-align: middle;\n    }\n\n    .dataframe tbody tr th {\n        vertical-align: top;\n    }\n\n    .dataframe thead th {\n        text-align: right;\n    }\n</style>\n<table border=\"1\" class=\"dataframe\">\n  <thead>\n    <tr style=\"text-align: right;\">\n      <th></th>\n      <th></th>\n      <th>sales_quantity</th>\n    </tr>\n    <tr>\n      <th>store_id</th>\n      <th>item_id</th>\n      <th></th>\n    </tr>\n  </thead>\n  <tbody>\n    <tr>\n      <th rowspan=\"5\" valign=\"top\">CA_1</th>\n      <th>FOODS_1_001</th>\n      <td>41</td>\n    </tr>\n    <tr>\n      <th>FOODS_1_002</th>\n      <td>10</td>\n    </tr>\n    <tr>\n      <th>FOODS_1_003</th>\n      <td>26</td>\n    </tr>\n    <tr>\n      <th>FOODS_1_004</th>\n      <td>0</td>\n    </tr>\n    <tr>\n      <th>FOODS_1_005</th>\n      <td>84</td>\n    </tr>\n  </tbody>\n</table>\n</div>"
     },
     "metadata": {},
     "execution_count": 133
    }
   ],
   "source": [
    "# store_id、item_idで集計\n",
    "store_item_id_group_sum = dtable[[\"store_id\", \"item_id\", \"sales_quantity\"]].groupby([\"store_id\", \"item_id\"]).sum()\n",
    "\n",
    "store_item_id_group_sum.head()"
   ]
  },
  {
   "cell_type": "code",
   "execution_count": 134,
   "metadata": {},
   "outputs": [
    {
     "output_type": "execute_result",
     "data": {
      "text/plain": [
       "                      sales_quantity\n",
       "store_id item_id                    \n",
       "CA_1     FOODS_1_001           94948\n",
       "         FOODS_1_002           94948\n",
       "         FOODS_1_003           94948\n",
       "         FOODS_1_004           94948\n",
       "         FOODS_1_005           94948"
      ],
      "text/html": "<div>\n<style scoped>\n    .dataframe tbody tr th:only-of-type {\n        vertical-align: middle;\n    }\n\n    .dataframe tbody tr th {\n        vertical-align: top;\n    }\n\n    .dataframe thead th {\n        text-align: right;\n    }\n</style>\n<table border=\"1\" class=\"dataframe\">\n  <thead>\n    <tr style=\"text-align: right;\">\n      <th></th>\n      <th></th>\n      <th>sales_quantity</th>\n    </tr>\n    <tr>\n      <th>store_id</th>\n      <th>item_id</th>\n      <th></th>\n    </tr>\n  </thead>\n  <tbody>\n    <tr>\n      <th rowspan=\"5\" valign=\"top\">CA_1</th>\n      <th>FOODS_1_001</th>\n      <td>94948</td>\n    </tr>\n    <tr>\n      <th>FOODS_1_002</th>\n      <td>94948</td>\n    </tr>\n    <tr>\n      <th>FOODS_1_003</th>\n      <td>94948</td>\n    </tr>\n    <tr>\n      <th>FOODS_1_004</th>\n      <td>94948</td>\n    </tr>\n    <tr>\n      <th>FOODS_1_005</th>\n      <td>94948</td>\n    </tr>\n  </tbody>\n</table>\n</div>"
     },
     "metadata": {},
     "execution_count": 134
    }
   ],
   "source": [
    "# さらにstore_idごとの合計を算定する → その合計額が各店舗のitem_idに計上される\n",
    "denominator = store_item_id_group_sum.groupby(\"store_id\").transform(np.sum)\n",
    "\n",
    "denominator.head()"
   ]
  },
  {
   "cell_type": "code",
   "execution_count": 135,
   "metadata": {},
   "outputs": [
    {
     "output_type": "execute_result",
     "data": {
      "text/plain": [
       "                      sales_quantity\n",
       "store_id item_id                    \n",
       "CA_1     FOODS_1_001        0.849107\n",
       "         FOODS_1_002        0.981600\n",
       "         FOODS_1_003        0.922695\n",
       "         FOODS_1_004        1.000000\n",
       "         FOODS_1_005        0.673369"
      ],
      "text/html": "<div>\n<style scoped>\n    .dataframe tbody tr th:only-of-type {\n        vertical-align: middle;\n    }\n\n    .dataframe tbody tr th {\n        vertical-align: top;\n    }\n\n    .dataframe thead th {\n        text-align: right;\n    }\n</style>\n<table border=\"1\" class=\"dataframe\">\n  <thead>\n    <tr style=\"text-align: right;\">\n      <th></th>\n      <th></th>\n      <th>sales_quantity</th>\n    </tr>\n    <tr>\n      <th>store_id</th>\n      <th>item_id</th>\n      <th></th>\n    </tr>\n  </thead>\n  <tbody>\n    <tr>\n      <th rowspan=\"5\" valign=\"top\">CA_1</th>\n      <th>FOODS_1_001</th>\n      <td>0.849107</td>\n    </tr>\n    <tr>\n      <th>FOODS_1_002</th>\n      <td>0.981600</td>\n    </tr>\n    <tr>\n      <th>FOODS_1_003</th>\n      <td>0.922695</td>\n    </tr>\n    <tr>\n      <th>FOODS_1_004</th>\n      <td>1.000000</td>\n    </tr>\n    <tr>\n      <th>FOODS_1_005</th>\n      <td>0.673369</td>\n    </tr>\n  </tbody>\n</table>\n</div>"
     },
     "metadata": {},
     "execution_count": 135
    }
   ],
   "source": [
    "# (店舗別のitem_id(降順)の累計) ÷ (各item_idに店舗別の合計を計上したもの)で\n",
    "# 店舗別のitem_id(降順)の累計比率を算定\n",
    "\n",
    "by_store_item_id_rate = numerator / denominator\n",
    "\n",
    "by_store_item_id_rate.head()"
   ]
  },
  {
   "cell_type": "code",
   "execution_count": 136,
   "metadata": {},
   "outputs": [
    {
     "output_type": "execute_result",
     "data": {
      "text/plain": [
       "                          sales_quantity\n",
       "store_id item_id                        \n",
       "CA_1     FOODS_1_001               False\n",
       "         FOODS_1_002               False\n",
       "         FOODS_1_003               False\n",
       "         FOODS_1_004               False\n",
       "         FOODS_1_005               False\n",
       "...                                  ...\n",
       "WI_3     HOUSEHOLD_2_512           False\n",
       "         HOUSEHOLD_2_513           False\n",
       "         HOUSEHOLD_2_514           False\n",
       "         HOUSEHOLD_2_515           False\n",
       "         HOUSEHOLD_2_516           False\n",
       "\n",
       "[30490 rows x 1 columns]"
      ],
      "text/html": "<div>\n<style scoped>\n    .dataframe tbody tr th:only-of-type {\n        vertical-align: middle;\n    }\n\n    .dataframe tbody tr th {\n        vertical-align: top;\n    }\n\n    .dataframe thead th {\n        text-align: right;\n    }\n</style>\n<table border=\"1\" class=\"dataframe\">\n  <thead>\n    <tr style=\"text-align: right;\">\n      <th></th>\n      <th></th>\n      <th>sales_quantity</th>\n    </tr>\n    <tr>\n      <th>store_id</th>\n      <th>item_id</th>\n      <th></th>\n    </tr>\n  </thead>\n  <tbody>\n    <tr>\n      <th rowspan=\"5\" valign=\"top\">CA_1</th>\n      <th>FOODS_1_001</th>\n      <td>False</td>\n    </tr>\n    <tr>\n      <th>FOODS_1_002</th>\n      <td>False</td>\n    </tr>\n    <tr>\n      <th>FOODS_1_003</th>\n      <td>False</td>\n    </tr>\n    <tr>\n      <th>FOODS_1_004</th>\n      <td>False</td>\n    </tr>\n    <tr>\n      <th>FOODS_1_005</th>\n      <td>False</td>\n    </tr>\n    <tr>\n      <th>...</th>\n      <th>...</th>\n      <td>...</td>\n    </tr>\n    <tr>\n      <th rowspan=\"5\" valign=\"top\">WI_3</th>\n      <th>HOUSEHOLD_2_512</th>\n      <td>False</td>\n    </tr>\n    <tr>\n      <th>HOUSEHOLD_2_513</th>\n      <td>False</td>\n    </tr>\n    <tr>\n      <th>HOUSEHOLD_2_514</th>\n      <td>False</td>\n    </tr>\n    <tr>\n      <th>HOUSEHOLD_2_515</th>\n      <td>False</td>\n    </tr>\n    <tr>\n      <th>HOUSEHOLD_2_516</th>\n      <td>False</td>\n    </tr>\n  </tbody>\n</table>\n<p>30490 rows × 1 columns</p>\n</div>"
     },
     "metadata": {},
     "execution_count": 136
    }
   ],
   "source": [
    "# 店舗別のitem_id(降順)の累計比率が30%以下の項目を抽出すれば、各店舗ごとのTOP30％のitem_idを抽出可能\n",
    "by_store_item_id_rate<=0.3"
   ]
  },
  {
   "cell_type": "code",
   "execution_count": 137,
   "metadata": {},
   "outputs": [
    {
     "output_type": "execute_result",
     "data": {
      "text/plain": [
       "  store_id      item_id  sales_quantity\n",
       "0     CA_1  FOODS_1_001        0.849107\n",
       "1     CA_1  FOODS_1_002        0.981600\n",
       "2     CA_1  FOODS_1_003        0.922695\n",
       "3     CA_1  FOODS_1_004        1.000000\n",
       "4     CA_1  FOODS_1_005        0.673369"
      ],
      "text/html": "<div>\n<style scoped>\n    .dataframe tbody tr th:only-of-type {\n        vertical-align: middle;\n    }\n\n    .dataframe tbody tr th {\n        vertical-align: top;\n    }\n\n    .dataframe thead th {\n        text-align: right;\n    }\n</style>\n<table border=\"1\" class=\"dataframe\">\n  <thead>\n    <tr style=\"text-align: right;\">\n      <th></th>\n      <th>store_id</th>\n      <th>item_id</th>\n      <th>sales_quantity</th>\n    </tr>\n  </thead>\n  <tbody>\n    <tr>\n      <th>0</th>\n      <td>CA_1</td>\n      <td>FOODS_1_001</td>\n      <td>0.849107</td>\n    </tr>\n    <tr>\n      <th>1</th>\n      <td>CA_1</td>\n      <td>FOODS_1_002</td>\n      <td>0.981600</td>\n    </tr>\n    <tr>\n      <th>2</th>\n      <td>CA_1</td>\n      <td>FOODS_1_003</td>\n      <td>0.922695</td>\n    </tr>\n    <tr>\n      <th>3</th>\n      <td>CA_1</td>\n      <td>FOODS_1_004</td>\n      <td>1.000000</td>\n    </tr>\n    <tr>\n      <th>4</th>\n      <td>CA_1</td>\n      <td>FOODS_1_005</td>\n      <td>0.673369</td>\n    </tr>\n  </tbody>\n</table>\n</div>"
     },
     "metadata": {},
     "execution_count": 137
    }
   ],
   "source": [
    "# 使いやすいよう、マルチインデックスを解除する\n",
    "by_store_item_id_rate = by_store_item_id_rate.reset_index()\n",
    "\n",
    "by_store_item_id_rate.head()"
   ]
  },
  {
   "cell_type": "code",
   "execution_count": 138,
   "metadata": {},
   "outputs": [
    {
     "output_type": "display_data",
     "data": {
      "text/plain": "                  sales_quantity\nstore_item_id                   \nCA_1-FOODS_1_001        0.849107\nCA_1-FOODS_1_002        0.981600\nCA_1-FOODS_1_003        0.922695\nCA_1-FOODS_1_004        1.000000\nCA_1-FOODS_1_005        0.673369",
      "text/html": "<div>\n<style scoped>\n    .dataframe tbody tr th:only-of-type {\n        vertical-align: middle;\n    }\n\n    .dataframe tbody tr th {\n        vertical-align: top;\n    }\n\n    .dataframe thead th {\n        text-align: right;\n    }\n</style>\n<table border=\"1\" class=\"dataframe\">\n  <thead>\n    <tr style=\"text-align: right;\">\n      <th></th>\n      <th>sales_quantity</th>\n    </tr>\n    <tr>\n      <th>store_item_id</th>\n      <th></th>\n    </tr>\n  </thead>\n  <tbody>\n    <tr>\n      <th>CA_1-FOODS_1_001</th>\n      <td>0.849107</td>\n    </tr>\n    <tr>\n      <th>CA_1-FOODS_1_002</th>\n      <td>0.981600</td>\n    </tr>\n    <tr>\n      <th>CA_1-FOODS_1_003</th>\n      <td>0.922695</td>\n    </tr>\n    <tr>\n      <th>CA_1-FOODS_1_004</th>\n      <td>1.000000</td>\n    </tr>\n    <tr>\n      <th>CA_1-FOODS_1_005</th>\n      <td>0.673369</td>\n    </tr>\n  </tbody>\n</table>\n</div>"
     },
     "metadata": {}
    },
    {
     "output_type": "display_data",
     "data": {
      "text/plain": "store_item_id\nCA_1-FOODS_1_001        False\nCA_1-FOODS_1_002        False\nCA_1-FOODS_1_003        False\nCA_1-FOODS_1_004        False\nCA_1-FOODS_1_005        False\n                        ...  \nWI_3-HOUSEHOLD_2_512    False\nWI_3-HOUSEHOLD_2_513    False\nWI_3-HOUSEHOLD_2_514    False\nWI_3-HOUSEHOLD_2_515    False\nWI_3-HOUSEHOLD_2_516    False\nName: sales_quantity, Length: 30490, dtype: bool"
     },
     "metadata": {}
    }
   ],
   "source": [
    "# store_idとitem_idの2つのカラムに分かれていると、DataFrame型の入れ子で使えない\n",
    "# そこでstore_idとitem_idを組み合わせた store_item_id を作成する\n",
    "by_store_item_id_rate[\"store_item_id\"] = by_store_item_id_rate[\"store_id\"].str.cat(by_store_item_id_rate[\"item_id\"], sep=\"-\")\n",
    "\n",
    "# store_item_id を index とする\n",
    "by_store_item_id_rate = by_store_item_id_rate[[\"store_item_id\", \"sales_quantity\"]].set_index(\"store_item_id\")\n",
    "\n",
    "display(by_store_item_id_rate.head())\n",
    "\n",
    "display(by_store_item_id_rate[\"sales_quantity\"]<0.3)"
   ]
  },
  {
   "cell_type": "code",
   "execution_count": 139,
   "metadata": {},
   "outputs": [
    {
     "output_type": "display_data",
     "data": {
      "text/plain": "                  sales_quantity\nstore_item_id                   \nCA_1-FOODS_1_032        0.148829\nCA_1-FOODS_1_085        0.277878\nCA_1-FOODS_2_019        0.236266\nCA_1-FOODS_2_021        0.245029\nCA_1-FOODS_2_197        0.212601",
      "text/html": "<div>\n<style scoped>\n    .dataframe tbody tr th:only-of-type {\n        vertical-align: middle;\n    }\n\n    .dataframe tbody tr th {\n        vertical-align: top;\n    }\n\n    .dataframe thead th {\n        text-align: right;\n    }\n</style>\n<table border=\"1\" class=\"dataframe\">\n  <thead>\n    <tr style=\"text-align: right;\">\n      <th></th>\n      <th>sales_quantity</th>\n    </tr>\n    <tr>\n      <th>store_item_id</th>\n      <th></th>\n    </tr>\n  </thead>\n  <tbody>\n    <tr>\n      <th>CA_1-FOODS_1_032</th>\n      <td>0.148829</td>\n    </tr>\n    <tr>\n      <th>CA_1-FOODS_1_085</th>\n      <td>0.277878</td>\n    </tr>\n    <tr>\n      <th>CA_1-FOODS_2_019</th>\n      <td>0.236266</td>\n    </tr>\n    <tr>\n      <th>CA_1-FOODS_2_021</th>\n      <td>0.245029</td>\n    </tr>\n    <tr>\n      <th>CA_1-FOODS_2_197</th>\n      <td>0.212601</td>\n    </tr>\n  </tbody>\n</table>\n</div>"
     },
     "metadata": {}
    }
   ],
   "source": [
    "# 各店舗ごとのTOP30%のitem_idを表示\n",
    "byshop_top_30 = by_store_item_id_rate[by_store_item_id_rate[\"sales_quantity\"]<0.3]\n",
    "\n",
    "display(byshop_top_30.head())\n",
    "\n",
    "# 各店舗ごとのTOP30%のitem_idのリストを作成\n",
    "byshop_top_30_list = list(byshop_top_30.index)"
   ]
  },
  {
   "cell_type": "code",
   "execution_count": 140,
   "metadata": {},
   "outputs": [
    {
     "output_type": "execute_result",
     "data": {
      "text/plain": [
       "          date   weekday                             id   cat_id  \\\n",
       "98  2011-01-29  Saturday  HOBBIES_1_103_CA_1_evaluation  HOBBIES   \n",
       "164 2011-01-29  Saturday  HOBBIES_1_169_CA_1_evaluation  HOBBIES   \n",
       "248 2011-01-29  Saturday  HOBBIES_1_256_CA_1_evaluation  HOBBIES   \n",
       "260 2011-01-29  Saturday  HOBBIES_1_268_CA_1_evaluation  HOBBIES   \n",
       "270 2011-01-29  Saturday  HOBBIES_1_278_CA_1_evaluation  HOBBIES   \n",
       "\n",
       "           item_id store_id  sales_quantity  pred  year  month  day  \\\n",
       "98   HOBBIES_1_103     CA_1              25     5  2011      1   29   \n",
       "164  HOBBIES_1_169     CA_1              45     5  2011      1   29   \n",
       "248  HOBBIES_1_256     CA_1              54     5  2011      1   29   \n",
       "260  HOBBIES_1_268     CA_1              16     5  2011      1   29   \n",
       "270  HOBBIES_1_278     CA_1               0     5  2011      1   29   \n",
       "\n",
       "     dayofweek  p_holiday  holiday  lag_1  lag_7  lag_1_diff  lag_7_diff  \\\n",
       "98           5          0        1    NaN    NaN         NaN         NaN   \n",
       "164          5          0        1    NaN    NaN         NaN         NaN   \n",
       "248          5          0        1    NaN    NaN         NaN         NaN   \n",
       "260          5          0        1    NaN    NaN         NaN         NaN   \n",
       "270          5          0        1    NaN    NaN         NaN         NaN   \n",
       "\n",
       "     rmean_1_1  rmean_7_1  rmean_1_7  rmean_7_7       store_item_id numofweek  \n",
       "98         NaN        NaN        NaN        NaN  CA_1-HOBBIES_1_103        04  \n",
       "164        NaN        NaN        NaN        NaN  CA_1-HOBBIES_1_169        04  \n",
       "248        NaN        NaN        NaN        NaN  CA_1-HOBBIES_1_256        04  \n",
       "260        NaN        NaN        NaN        NaN  CA_1-HOBBIES_1_268        04  \n",
       "270        NaN        NaN        NaN        NaN  CA_1-HOBBIES_1_278        04  "
      ],
      "text/html": "<div>\n<style scoped>\n    .dataframe tbody tr th:only-of-type {\n        vertical-align: middle;\n    }\n\n    .dataframe tbody tr th {\n        vertical-align: top;\n    }\n\n    .dataframe thead th {\n        text-align: right;\n    }\n</style>\n<table border=\"1\" class=\"dataframe\">\n  <thead>\n    <tr style=\"text-align: right;\">\n      <th></th>\n      <th>date</th>\n      <th>weekday</th>\n      <th>id</th>\n      <th>cat_id</th>\n      <th>item_id</th>\n      <th>store_id</th>\n      <th>sales_quantity</th>\n      <th>pred</th>\n      <th>year</th>\n      <th>month</th>\n      <th>day</th>\n      <th>dayofweek</th>\n      <th>p_holiday</th>\n      <th>holiday</th>\n      <th>lag_1</th>\n      <th>lag_7</th>\n      <th>lag_1_diff</th>\n      <th>lag_7_diff</th>\n      <th>rmean_1_1</th>\n      <th>rmean_7_1</th>\n      <th>rmean_1_7</th>\n      <th>rmean_7_7</th>\n      <th>store_item_id</th>\n      <th>numofweek</th>\n    </tr>\n  </thead>\n  <tbody>\n    <tr>\n      <th>98</th>\n      <td>2011-01-29</td>\n      <td>Saturday</td>\n      <td>HOBBIES_1_103_CA_1_evaluation</td>\n      <td>HOBBIES</td>\n      <td>HOBBIES_1_103</td>\n      <td>CA_1</td>\n      <td>25</td>\n      <td>5</td>\n      <td>2011</td>\n      <td>1</td>\n      <td>29</td>\n      <td>5</td>\n      <td>0</td>\n      <td>1</td>\n      <td>NaN</td>\n      <td>NaN</td>\n      <td>NaN</td>\n      <td>NaN</td>\n      <td>NaN</td>\n      <td>NaN</td>\n      <td>NaN</td>\n      <td>NaN</td>\n      <td>CA_1-HOBBIES_1_103</td>\n      <td>04</td>\n    </tr>\n    <tr>\n      <th>164</th>\n      <td>2011-01-29</td>\n      <td>Saturday</td>\n      <td>HOBBIES_1_169_CA_1_evaluation</td>\n      <td>HOBBIES</td>\n      <td>HOBBIES_1_169</td>\n      <td>CA_1</td>\n      <td>45</td>\n      <td>5</td>\n      <td>2011</td>\n      <td>1</td>\n      <td>29</td>\n      <td>5</td>\n      <td>0</td>\n      <td>1</td>\n      <td>NaN</td>\n      <td>NaN</td>\n      <td>NaN</td>\n      <td>NaN</td>\n      <td>NaN</td>\n      <td>NaN</td>\n      <td>NaN</td>\n      <td>NaN</td>\n      <td>CA_1-HOBBIES_1_169</td>\n      <td>04</td>\n    </tr>\n    <tr>\n      <th>248</th>\n      <td>2011-01-29</td>\n      <td>Saturday</td>\n      <td>HOBBIES_1_256_CA_1_evaluation</td>\n      <td>HOBBIES</td>\n      <td>HOBBIES_1_256</td>\n      <td>CA_1</td>\n      <td>54</td>\n      <td>5</td>\n      <td>2011</td>\n      <td>1</td>\n      <td>29</td>\n      <td>5</td>\n      <td>0</td>\n      <td>1</td>\n      <td>NaN</td>\n      <td>NaN</td>\n      <td>NaN</td>\n      <td>NaN</td>\n      <td>NaN</td>\n      <td>NaN</td>\n      <td>NaN</td>\n      <td>NaN</td>\n      <td>CA_1-HOBBIES_1_256</td>\n      <td>04</td>\n    </tr>\n    <tr>\n      <th>260</th>\n      <td>2011-01-29</td>\n      <td>Saturday</td>\n      <td>HOBBIES_1_268_CA_1_evaluation</td>\n      <td>HOBBIES</td>\n      <td>HOBBIES_1_268</td>\n      <td>CA_1</td>\n      <td>16</td>\n      <td>5</td>\n      <td>2011</td>\n      <td>1</td>\n      <td>29</td>\n      <td>5</td>\n      <td>0</td>\n      <td>1</td>\n      <td>NaN</td>\n      <td>NaN</td>\n      <td>NaN</td>\n      <td>NaN</td>\n      <td>NaN</td>\n      <td>NaN</td>\n      <td>NaN</td>\n      <td>NaN</td>\n      <td>CA_1-HOBBIES_1_268</td>\n      <td>04</td>\n    </tr>\n    <tr>\n      <th>270</th>\n      <td>2011-01-29</td>\n      <td>Saturday</td>\n      <td>HOBBIES_1_278_CA_1_evaluation</td>\n      <td>HOBBIES</td>\n      <td>HOBBIES_1_278</td>\n      <td>CA_1</td>\n      <td>0</td>\n      <td>5</td>\n      <td>2011</td>\n      <td>1</td>\n      <td>29</td>\n      <td>5</td>\n      <td>0</td>\n      <td>1</td>\n      <td>NaN</td>\n      <td>NaN</td>\n      <td>NaN</td>\n      <td>NaN</td>\n      <td>NaN</td>\n      <td>NaN</td>\n      <td>NaN</td>\n      <td>NaN</td>\n      <td>CA_1-HOBBIES_1_278</td>\n      <td>04</td>\n    </tr>\n  </tbody>\n</table>\n</div>"
     },
     "metadata": {},
     "execution_count": 140
    }
   ],
   "source": [
    "# 店舗ごとのTOP30％を表示\n",
    "dtable[\"store_item_id\"] = dtable[\"store_id\"].str.cat(dtable[\"item_id\"], sep=\"-\")\n",
    "\n",
    "dtable[dtable[\"store_item_id\"].isin(byshop_top_30_list)].head()"
   ]
  }
 ]
}